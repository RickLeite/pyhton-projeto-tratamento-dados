{
 "cells": [
  {
   "cell_type": "markdown",
   "metadata": {},
   "source": [
    "Projeto desenvolvido no âmbito do módulo de Técnicas de Programação I, na trilha de Engenharia de dados do programa Santander Coders 2023, em parceria com a Ada Tech.\n",
    "\n",
    "Projeto elaborado por:\n",
    "- Andreza Lima\n",
    "- Danilo Freitas\n",
    "- Luis Felipe Gilisk\n",
    "- Patrick Leite"
   ]
  },
  {
   "cell_type": "markdown",
   "metadata": {},
   "source": [
    "# Descrição do projeto\n"
   ]
  },
  {
   "cell_type": "markdown",
   "metadata": {},
   "source": [
    "Você trabalha em uma consultoria de dados que foi contratada para realizar a distribuição de materiais didáticos nas escolas da cidade do Rio de Janeiro. Sua missão é realizar tratamentos nos dados de acordo com as normas de padrão definidas pelo cliente e encontrar qual a melhor rota que um caminhão deve realizar para entregar os materiais didáticos de forma a otimizar o seu percurso. \n",
    "\n",
    "Para esse projeto você recebeu três arquivos:\n",
    "- escolas.csv: contém os dados das escolas\n",
    "- subprefeituras.csv: contém dados de quais bairros pertem a cada subprefeitura\n",
    "- material_didatico.csv: contém a quantidade de material didático que cada escola deve receber\n",
    "\n",
    "Como produto final, você deve entregar:\n",
    "- um arquivo csv contendo os dados no padrão especificado com as escolas ordenadas em que os materiais didáticos devem ser entregues e com as colunas contendo id da escola, nome da escola, tipo da escola (EM, CIEP ou colégio), logradouro da entrega, número, bairro, subprefeitura, latitude, longitude e quantidade de material didático que deve ser entregue;\n",
    "- um arquivo csv com a quantidade total de material escolar por subprefeitura para que sejam contabilizados os custos por subprefeitura\n",
    "\n",
    "Como padrão dos dados, considere:\n",
    "- nome das colunas em snake_case\n",
    "- strings não devem conter acentos\n",
    "- todas as strings devem estar em maiúsculo\n",
    "- padronização do nome dos logradouros sem abreviação (Ex: R. deve estar como Rua)\n",
    "- latitude e longitude devem conter apenas 5 casas decimais\n",
    "- os ids da escola devem todos ser strings com 3 caracteres (Ex: '024')\n",
    "\n",
    "Desafio:\n",
    "\n",
    "Entregar um plot com a representação da melhor rota que você encontrou, por exemplo:\n",
    "<img src='rota.png' width=600>\n"
   ]
  },
  {
   "cell_type": "markdown",
   "metadata": {},
   "source": [
    "_______\n"
   ]
  },
  {
   "cell_type": "markdown",
   "metadata": {},
   "source": [
    "# Proposta de resolução"
   ]
  },
  {
   "cell_type": "markdown",
   "metadata": {},
   "source": [
    "## Importando pacotes"
   ]
  },
  {
   "cell_type": "code",
   "execution_count": null,
   "metadata": {},
   "outputs": [],
   "source": [
    "## Executar apenas se for preciso instalar pacotes\n",
    "# !pip install pandas\n",
    "# !pip install unidecode"
   ]
  },
  {
   "cell_type": "code",
   "execution_count": 17,
   "metadata": {},
   "outputs": [],
   "source": [
    "import pandas as pd\n",
    "import unidecode "
   ]
  },
  {
   "cell_type": "markdown",
   "metadata": {},
   "source": [
    "## Funções auxiliares"
   ]
  },
  {
   "cell_type": "code",
   "execution_count": 97,
   "metadata": {},
   "outputs": [],
   "source": [
    "# Função para tratamento de colunas strings (remove acentos, coloca em maiúsculo, remove abreviações)\n",
    "def trata_string(df,*colunas):\n",
    "    \"\"\"\n",
    "    Recebe um data frame e os nomes das colunas que devem ter seu conteúdo transformado\n",
    "    Retorna o mesmo data frame com as colunas transformadas\n",
    "    \"\"\"\n",
    "    for coluna in colunas:\n",
    "        df[coluna] = [unidecode.unidecode(x) for x in df[coluna].str.upper() ]\n",
    "    return df"
   ]
  },
  {
   "cell_type": "markdown",
   "metadata": {},
   "source": [
    "## Tratamento de escolas.csv"
   ]
  },
  {
   "cell_type": "markdown",
   "metadata": {},
   "source": [
    "### Conhecendo os dados"
   ]
  },
  {
   "cell_type": "code",
   "execution_count": 77,
   "metadata": {},
   "outputs": [],
   "source": [
    "# Leitura do arquivo\n",
    "escolas = pd.read_csv(\"escolas.csv\")"
   ]
  },
  {
   "cell_type": "code",
   "execution_count": 99,
   "metadata": {},
   "outputs": [
    {
     "data": {
      "text/html": [
       "<div>\n",
       "<style scoped>\n",
       "    .dataframe tbody tr th:only-of-type {\n",
       "        vertical-align: middle;\n",
       "    }\n",
       "\n",
       "    .dataframe tbody tr th {\n",
       "        vertical-align: top;\n",
       "    }\n",
       "\n",
       "    .dataframe thead th {\n",
       "        text-align: right;\n",
       "    }\n",
       "</style>\n",
       "<table border=\"1\" class=\"dataframe\">\n",
       "  <thead>\n",
       "    <tr style=\"text-align: right;\">\n",
       "      <th></th>\n",
       "      <th>id</th>\n",
       "      <th>escolas_postos</th>\n",
       "      <th>bairro</th>\n",
       "      <th>endereco</th>\n",
       "      <th>lat</th>\n",
       "      <th>lon</th>\n",
       "    </tr>\n",
       "  </thead>\n",
       "  <tbody>\n",
       "    <tr>\n",
       "      <th>0</th>\n",
       "      <td>178</td>\n",
       "      <td>CENTRO INTEGRADO DE EDUCACAO PUBLICA HENFIL</td>\n",
       "      <td>CAJU</td>\n",
       "      <td>Rua Carlos Seidl S/Nº</td>\n",
       "      <td>-22,880888</td>\n",
       "      <td>-43,225326</td>\n",
       "    </tr>\n",
       "    <tr>\n",
       "      <th>1</th>\n",
       "      <td>634</td>\n",
       "      <td>EM ALICE DO AMARAL PEIXOTO</td>\n",
       "      <td>BENFICA</td>\n",
       "      <td>Rua Ébano 187</td>\n",
       "      <td>-22,889574</td>\n",
       "      <td>-43,236202</td>\n",
       "    </tr>\n",
       "    <tr>\n",
       "      <th>2</th>\n",
       "      <td>483</td>\n",
       "      <td>EM CELESTINO SILVA</td>\n",
       "      <td>CENTRO</td>\n",
       "      <td>R. do Lavradio, 56</td>\n",
       "      <td>-22,909293</td>\n",
       "      <td>-43,183579</td>\n",
       "    </tr>\n",
       "    <tr>\n",
       "      <th>3</th>\n",
       "      <td>476</td>\n",
       "      <td>ESCOLA MUNICIPAL FLORIANO PEIXOTO</td>\n",
       "      <td>SAO CRISTOVAO</td>\n",
       "      <td>Praça Argentina 20</td>\n",
       "      <td>-22,897629</td>\n",
       "      <td>-43,227456</td>\n",
       "    </tr>\n",
       "    <tr>\n",
       "      <th>4</th>\n",
       "      <td>132</td>\n",
       "      <td>EM PEREIRA PASSOS</td>\n",
       "      <td>RIO COMPRIDO</td>\n",
       "      <td>Praça Condessa Paulo de Frontin 45</td>\n",
       "      <td>-22,924412</td>\n",
       "      <td>-43,208579</td>\n",
       "    </tr>\n",
       "  </tbody>\n",
       "</table>\n",
       "</div>"
      ],
      "text/plain": [
       "    id                               escolas_postos         bairro  \\\n",
       "0  178  CENTRO INTEGRADO DE EDUCACAO PUBLICA HENFIL           CAJU   \n",
       "1  634                   EM ALICE DO AMARAL PEIXOTO        BENFICA   \n",
       "2  483                           EM CELESTINO SILVA         CENTRO   \n",
       "3  476            ESCOLA MUNICIPAL FLORIANO PEIXOTO  SAO CRISTOVAO   \n",
       "4  132                            EM PEREIRA PASSOS   RIO COMPRIDO   \n",
       "\n",
       "                            endereco          lat         lon  \n",
       "0               Rua Carlos Seidl S/Nº  -22,880888  -43,225326  \n",
       "1                       Rua Ébano 187  -22,889574  -43,236202  \n",
       "2                  R. do Lavradio, 56  -22,909293  -43,183579  \n",
       "3                  Praça Argentina 20  -22,897629  -43,227456  \n",
       "4  Praça Condessa Paulo de Frontin 45  -22,924412  -43,208579  "
      ]
     },
     "execution_count": 99,
     "metadata": {},
     "output_type": "execute_result"
    }
   ],
   "source": [
    "# Verifica a estrutura\n",
    "escolas.head()"
   ]
  },
  {
   "cell_type": "code",
   "execution_count": 78,
   "metadata": {},
   "outputs": [
    {
     "name": "stdout",
     "output_type": "stream",
     "text": [
      "<class 'pandas.core.frame.DataFrame'>\n",
      "RangeIndex: 152 entries, 0 to 151\n",
      "Data columns (total 6 columns):\n",
      " #   Column          Non-Null Count  Dtype \n",
      "---  ------          --------------  ----- \n",
      " 0   id              152 non-null    int64 \n",
      " 1   Escolas_Postos  152 non-null    object\n",
      " 2   BAIRRO          152 non-null    object\n",
      " 3   ENDEREÇO        152 non-null    object\n",
      " 4   lat             152 non-null    object\n",
      " 5   lon             152 non-null    object\n",
      "dtypes: int64(1), object(5)\n",
      "memory usage: 7.2+ KB\n"
     ]
    }
   ],
   "source": [
    "# verifica informações mais detalhadas do data frame\n",
    "escolas.info()"
   ]
  },
  {
   "cell_type": "markdown",
   "metadata": {},
   "source": [
    "Destes resultados, é possível verificar que:\n",
    "- os nomes das colunas não estão em formato snake case\n",
    "- existe um ç nos nomes das colunas\n",
    "- o dataset contém 152 escolas\n",
    "- nenhum campo contém nulos\n",
    "- o campo id tem tipologia de número inteiro, quando pelas instruções deveria ser string com tamanho padronizado em 3\n",
    "- os campos escolas_postos, bairro e endereço precisam ser tratados para:\n",
    "    - não conter acentos\n",
    "    - estarem todas em maiúsculo\n",
    "    - remover abreviação\n",
    "- os campos latitude e longitude devem ser tratados para conter apenas 5 casas decimais. (TRANFORMAR EM FLOAT?)\n",
    "\n",
    "A partir desta constatação, serão executadas ações para corrigir os pontos identificados acima."
   ]
  },
  {
   "cell_type": "markdown",
   "metadata": {},
   "source": [
    "### Corrigindo nomes das colunas"
   ]
  },
  {
   "cell_type": "code",
   "execution_count": 104,
   "metadata": {},
   "outputs": [],
   "source": [
    "## Renomeia os nomes das colunas para snake case\n",
    "\n",
    "# transforma os nomes das colunas em minúsculos \n",
    "escolas.columns = escolas.columns.str.lower()\n",
    "\n",
    "# remove espaços antes e depois dos nomes das colunas, se houver\n",
    "escolas.columns = escolas.columns.str.strip()\n",
    "\n",
    "# remove os acentos dos nomes das colunas\n",
    "escolas.columns = [unidecode.unidecode(x) for x in escolas.columns ]"
   ]
  },
  {
   "cell_type": "code",
   "execution_count": 105,
   "metadata": {},
   "outputs": [
    {
     "data": {
      "text/html": [
       "<div>\n",
       "<style scoped>\n",
       "    .dataframe tbody tr th:only-of-type {\n",
       "        vertical-align: middle;\n",
       "    }\n",
       "\n",
       "    .dataframe tbody tr th {\n",
       "        vertical-align: top;\n",
       "    }\n",
       "\n",
       "    .dataframe thead th {\n",
       "        text-align: right;\n",
       "    }\n",
       "</style>\n",
       "<table border=\"1\" class=\"dataframe\">\n",
       "  <thead>\n",
       "    <tr style=\"text-align: right;\">\n",
       "      <th></th>\n",
       "      <th>id</th>\n",
       "      <th>escolas_postos</th>\n",
       "      <th>bairro</th>\n",
       "      <th>endereco</th>\n",
       "      <th>lat</th>\n",
       "      <th>lon</th>\n",
       "    </tr>\n",
       "  </thead>\n",
       "  <tbody>\n",
       "    <tr>\n",
       "      <th>0</th>\n",
       "      <td>178</td>\n",
       "      <td>CENTRO INTEGRADO DE EDUCACAO PUBLICA HENFIL</td>\n",
       "      <td>CAJU</td>\n",
       "      <td>Rua Carlos Seidl S/Nº</td>\n",
       "      <td>-22,880888</td>\n",
       "      <td>-43,225326</td>\n",
       "    </tr>\n",
       "    <tr>\n",
       "      <th>1</th>\n",
       "      <td>634</td>\n",
       "      <td>EM ALICE DO AMARAL PEIXOTO</td>\n",
       "      <td>BENFICA</td>\n",
       "      <td>Rua Ébano 187</td>\n",
       "      <td>-22,889574</td>\n",
       "      <td>-43,236202</td>\n",
       "    </tr>\n",
       "    <tr>\n",
       "      <th>2</th>\n",
       "      <td>483</td>\n",
       "      <td>EM CELESTINO SILVA</td>\n",
       "      <td>CENTRO</td>\n",
       "      <td>R. do Lavradio, 56</td>\n",
       "      <td>-22,909293</td>\n",
       "      <td>-43,183579</td>\n",
       "    </tr>\n",
       "    <tr>\n",
       "      <th>3</th>\n",
       "      <td>476</td>\n",
       "      <td>ESCOLA MUNICIPAL FLORIANO PEIXOTO</td>\n",
       "      <td>SAO CRISTOVAO</td>\n",
       "      <td>Praça Argentina 20</td>\n",
       "      <td>-22,897629</td>\n",
       "      <td>-43,227456</td>\n",
       "    </tr>\n",
       "    <tr>\n",
       "      <th>4</th>\n",
       "      <td>132</td>\n",
       "      <td>EM PEREIRA PASSOS</td>\n",
       "      <td>RIO COMPRIDO</td>\n",
       "      <td>Praça Condessa Paulo de Frontin 45</td>\n",
       "      <td>-22,924412</td>\n",
       "      <td>-43,208579</td>\n",
       "    </tr>\n",
       "  </tbody>\n",
       "</table>\n",
       "</div>"
      ],
      "text/plain": [
       "    id                               escolas_postos         bairro  \\\n",
       "0  178  CENTRO INTEGRADO DE EDUCACAO PUBLICA HENFIL           CAJU   \n",
       "1  634                   EM ALICE DO AMARAL PEIXOTO        BENFICA   \n",
       "2  483                           EM CELESTINO SILVA         CENTRO   \n",
       "3  476            ESCOLA MUNICIPAL FLORIANO PEIXOTO  SAO CRISTOVAO   \n",
       "4  132                            EM PEREIRA PASSOS   RIO COMPRIDO   \n",
       "\n",
       "                             endereco         lat         lon  \n",
       "0               Rua Carlos Seidl S/Nº  -22,880888  -43,225326  \n",
       "1                       Rua Ébano 187  -22,889574  -43,236202  \n",
       "2                  R. do Lavradio, 56  -22,909293  -43,183579  \n",
       "3                  Praça Argentina 20  -22,897629  -43,227456  \n",
       "4  Praça Condessa Paulo de Frontin 45  -22,924412  -43,208579  "
      ]
     },
     "execution_count": 105,
     "metadata": {},
     "output_type": "execute_result"
    }
   ],
   "source": [
    "# verifica a nova estrutura\n",
    "escolas.head()"
   ]
  },
  {
   "cell_type": "markdown",
   "metadata": {},
   "source": [
    "### Corrigindo Ids"
   ]
  },
  {
   "cell_type": "code",
   "execution_count": 63,
   "metadata": {},
   "outputs": [
    {
     "data": {
      "text/plain": [
       "count    152.000000\n",
       "mean     342.638158\n",
       "std      203.307667\n",
       "min       11.000000\n",
       "25%      160.000000\n",
       "50%      346.500000\n",
       "75%      520.750000\n",
       "max      690.000000\n",
       "Name: id, dtype: float64"
      ]
     },
     "execution_count": 63,
     "metadata": {},
     "output_type": "execute_result"
    }
   ],
   "source": [
    "# verifica id\n",
    "escolas.id.describe()"
   ]
  },
  {
   "cell_type": "markdown",
   "metadata": {},
   "source": [
    "Verifica-se que existem inteiros com menos de 3 caracteres, então além de transformar a coluna em string, será necessário incluir zeros à esquerda, quando necessário"
   ]
  },
  {
   "cell_type": "code",
   "execution_count": 89,
   "metadata": {},
   "outputs": [],
   "source": [
    "# tranforma coluna id em string:\n",
    "escolas[\"id\"] = escolas.id.astype(str)"
   ]
  },
  {
   "cell_type": "code",
   "execution_count": 69,
   "metadata": {},
   "outputs": [
    {
     "name": "stdout",
     "output_type": "stream",
     "text": [
      "<class 'pandas.core.frame.DataFrame'>\n",
      "RangeIndex: 152 entries, 0 to 151\n",
      "Data columns (total 6 columns):\n",
      " #   Column          Non-Null Count  Dtype \n",
      "---  ------          --------------  ----- \n",
      " 0   id              152 non-null    object\n",
      " 1   escolas_postos  152 non-null    object\n",
      " 2   bairro          152 non-null    object\n",
      " 3   endereco        152 non-null    object\n",
      " 4   lat             152 non-null    object\n",
      " 5   lon             152 non-null    object\n",
      "dtypes: object(6)\n",
      "memory usage: 7.2+ KB\n"
     ]
    }
   ],
   "source": [
    "escolas.info()"
   ]
  },
  {
   "cell_type": "markdown",
   "metadata": {},
   "source": [
    "Como pandas usa object dtype para armazenar strings, resta agora apenas adicionar os zeros."
   ]
  },
  {
   "cell_type": "code",
   "execution_count": 90,
   "metadata": {},
   "outputs": [],
   "source": [
    "# Inclui zeros até que a string tenha tamanho 3\n",
    "escolas[\"id\"] = escolas.id.str.zfill(3)"
   ]
  },
  {
   "cell_type": "code",
   "execution_count": 91,
   "metadata": {},
   "outputs": [
    {
     "data": {
      "text/plain": [
       "array(['178', '634', '483', '476', '132', '017', '055', '490', '600',\n",
       "       '089', '387', '331', '450', '558', '413', '540', '309', '268',\n",
       "       '523', '035', '011', '226', '638', '126', '180', '163', '361',\n",
       "       '280', '060', '587', '653', '660', '382', '217', '378', '429',\n",
       "       '025', '373', '624', '157', '020', '117', '502', '351', '135',\n",
       "       '388', '440', '259', '422', '041', '537', '230', '379', '146',\n",
       "       '566', '498', '663', '121', '161', '263', '118', '140', '260',\n",
       "       '069', '090', '274', '676', '390', '608', '589', '256', '091',\n",
       "       '248', '623', '603', '673', '520', '412', '031', '514', '023',\n",
       "       '415', '016', '570', '528', '414', '690', '202', '550', '211',\n",
       "       '206', '492', '466', '636', '527', '586', '080', '398', '175',\n",
       "       '308', '576', '495', '641', '689', '171', '477', '687', '568',\n",
       "       '399', '255', '262', '616', '320', '144', '534', '342', '052',\n",
       "       '139', '323', '573', '560', '246', '319', '584', '311', '316',\n",
       "       '497', '297', '068', '515', '289', '210', '474', '301', '215',\n",
       "       '606'], dtype=object)"
      ]
     },
     "execution_count": 91,
     "metadata": {},
     "output_type": "execute_result"
    }
   ],
   "source": [
    "# Checando os novos ids\n",
    "escolas.id.unique()"
   ]
  },
  {
   "cell_type": "markdown",
   "metadata": {},
   "source": [
    "### Tratando colunas do tipo string"
   ]
  },
  {
   "cell_type": "code",
   "execution_count": 108,
   "metadata": {},
   "outputs": [
    {
     "data": {
      "text/html": [
       "<div>\n",
       "<style scoped>\n",
       "    .dataframe tbody tr th:only-of-type {\n",
       "        vertical-align: middle;\n",
       "    }\n",
       "\n",
       "    .dataframe tbody tr th {\n",
       "        vertical-align: top;\n",
       "    }\n",
       "\n",
       "    .dataframe thead th {\n",
       "        text-align: right;\n",
       "    }\n",
       "</style>\n",
       "<table border=\"1\" class=\"dataframe\">\n",
       "  <thead>\n",
       "    <tr style=\"text-align: right;\">\n",
       "      <th></th>\n",
       "      <th>id</th>\n",
       "      <th>escolas_postos</th>\n",
       "      <th>bairro</th>\n",
       "      <th>endereco</th>\n",
       "      <th>lat</th>\n",
       "      <th>lon</th>\n",
       "    </tr>\n",
       "  </thead>\n",
       "  <tbody>\n",
       "    <tr>\n",
       "      <th>0</th>\n",
       "      <td>178</td>\n",
       "      <td>CENTRO INTEGRADO DE EDUCACAO PUBLICA HENFIL</td>\n",
       "      <td>CAJU</td>\n",
       "      <td>RUA CARLOS SEIDL S/NO</td>\n",
       "      <td>-22,880888</td>\n",
       "      <td>-43,225326</td>\n",
       "    </tr>\n",
       "    <tr>\n",
       "      <th>1</th>\n",
       "      <td>634</td>\n",
       "      <td>EM ALICE DO AMARAL PEIXOTO</td>\n",
       "      <td>BENFICA</td>\n",
       "      <td>RUA EBANO 187</td>\n",
       "      <td>-22,889574</td>\n",
       "      <td>-43,236202</td>\n",
       "    </tr>\n",
       "    <tr>\n",
       "      <th>2</th>\n",
       "      <td>483</td>\n",
       "      <td>EM CELESTINO SILVA</td>\n",
       "      <td>CENTRO</td>\n",
       "      <td>R. DO LAVRADIO, 56</td>\n",
       "      <td>-22,909293</td>\n",
       "      <td>-43,183579</td>\n",
       "    </tr>\n",
       "    <tr>\n",
       "      <th>3</th>\n",
       "      <td>476</td>\n",
       "      <td>ESCOLA MUNICIPAL FLORIANO PEIXOTO</td>\n",
       "      <td>SAO CRISTOVAO</td>\n",
       "      <td>PRACA ARGENTINA 20</td>\n",
       "      <td>-22,897629</td>\n",
       "      <td>-43,227456</td>\n",
       "    </tr>\n",
       "    <tr>\n",
       "      <th>4</th>\n",
       "      <td>132</td>\n",
       "      <td>EM PEREIRA PASSOS</td>\n",
       "      <td>RIO COMPRIDO</td>\n",
       "      <td>PRACA CONDESSA PAULO DE FRONTIN 45</td>\n",
       "      <td>-22,924412</td>\n",
       "      <td>-43,208579</td>\n",
       "    </tr>\n",
       "    <tr>\n",
       "      <th>...</th>\n",
       "      <td>...</td>\n",
       "      <td>...</td>\n",
       "      <td>...</td>\n",
       "      <td>...</td>\n",
       "      <td>...</td>\n",
       "      <td>...</td>\n",
       "    </tr>\n",
       "    <tr>\n",
       "      <th>147</th>\n",
       "      <td>474</td>\n",
       "      <td>EM ENGENHEIRO GASTAO RANGEL</td>\n",
       "      <td>GUARATIBA</td>\n",
       "      <td>ESTRADA DO MAGARCA 9.183</td>\n",
       "      <td>-22,98046</td>\n",
       "      <td>-43,643545</td>\n",
       "    </tr>\n",
       "    <tr>\n",
       "      <th>148</th>\n",
       "      <td>301</td>\n",
       "      <td>EM JONATAS SERRANO</td>\n",
       "      <td>GUARATIBA</td>\n",
       "      <td>ESTRADA DO MATO ALTO, S/NO</td>\n",
       "      <td>-22,953163</td>\n",
       "      <td>-43,577409</td>\n",
       "    </tr>\n",
       "    <tr>\n",
       "      <th>149</th>\n",
       "      <td>215</td>\n",
       "      <td>E.M. NARCISA AMALIA</td>\n",
       "      <td>ILHA DE GUARATIBA</td>\n",
       "      <td>ESTRADA TEODORETO DE CAMARGO S/N.O</td>\n",
       "      <td>-23,009084</td>\n",
       "      <td>-43,537582</td>\n",
       "    </tr>\n",
       "    <tr>\n",
       "      <th>150</th>\n",
       "      <td>606</td>\n",
       "      <td>EM PROFESSOR CASTILHO</td>\n",
       "      <td>ILHA DE GUARATIBA</td>\n",
       "      <td>CAMINHO DA MATRIZ 4406</td>\n",
       "      <td>-22,994124</td>\n",
       "      <td>-43,593683</td>\n",
       "    </tr>\n",
       "    <tr>\n",
       "      <th>151</th>\n",
       "      <td>069</td>\n",
       "      <td>ESCOLA MUNICIPAL CARDEAL ARCOVERDE</td>\n",
       "      <td>MADUREIRA</td>\n",
       "      <td>RUA AGOSTINHO BARBALHO 401</td>\n",
       "      <td>-22,876082</td>\n",
       "      <td>-43,343369</td>\n",
       "    </tr>\n",
       "  </tbody>\n",
       "</table>\n",
       "<p>152 rows × 6 columns</p>\n",
       "</div>"
      ],
      "text/plain": [
       "      id                               escolas_postos             bairro  \\\n",
       "0    178  CENTRO INTEGRADO DE EDUCACAO PUBLICA HENFIL               CAJU   \n",
       "1    634                   EM ALICE DO AMARAL PEIXOTO            BENFICA   \n",
       "2    483                           EM CELESTINO SILVA             CENTRO   \n",
       "3    476            ESCOLA MUNICIPAL FLORIANO PEIXOTO      SAO CRISTOVAO   \n",
       "4    132                            EM PEREIRA PASSOS       RIO COMPRIDO   \n",
       "..   ...                                          ...                ...   \n",
       "147  474                  EM ENGENHEIRO GASTAO RANGEL          GUARATIBA   \n",
       "148  301                           EM JONATAS SERRANO          GUARATIBA   \n",
       "149  215                          E.M. NARCISA AMALIA  ILHA DE GUARATIBA   \n",
       "150  606                        EM PROFESSOR CASTILHO  ILHA DE GUARATIBA   \n",
       "151  069           ESCOLA MUNICIPAL CARDEAL ARCOVERDE          MADUREIRA   \n",
       "\n",
       "                               endereco         lat         lon  \n",
       "0                 RUA CARLOS SEIDL S/NO  -22,880888  -43,225326  \n",
       "1                         RUA EBANO 187  -22,889574  -43,236202  \n",
       "2                    R. DO LAVRADIO, 56  -22,909293  -43,183579  \n",
       "3                    PRACA ARGENTINA 20  -22,897629  -43,227456  \n",
       "4    PRACA CONDESSA PAULO DE FRONTIN 45  -22,924412  -43,208579  \n",
       "..                                  ...         ...         ...  \n",
       "147            ESTRADA DO MAGARCA 9.183   -22,98046  -43,643545  \n",
       "148          ESTRADA DO MATO ALTO, S/NO  -22,953163  -43,577409  \n",
       "149  ESTRADA TEODORETO DE CAMARGO S/N.O  -23,009084  -43,537582  \n",
       "150              CAMINHO DA MATRIZ 4406  -22,994124  -43,593683  \n",
       "151          RUA AGOSTINHO BARBALHO 401  -22,876082  -43,343369  \n",
       "\n",
       "[152 rows x 6 columns]"
      ]
     },
     "execution_count": 108,
     "metadata": {},
     "output_type": "execute_result"
    }
   ],
   "source": [
    "trata_string(escolas,\"escolas_postos\",\"bairro\",\"endereco\")"
   ]
  },
  {
   "cell_type": "markdown",
   "metadata": {},
   "source": [
    "Para padronizar as siglas, o conhecimento da área de negócio seria o mais poderoso insight para resolver todas as ocorrências. Mas na ausência deste conhecimento, será necessário mais algumas investigações."
   ]
  },
  {
   "cell_type": "code",
   "execution_count": 112,
   "metadata": {},
   "outputs": [
    {
     "data": {
      "text/plain": [
       "array(['CENTRO INTEGRADO DE EDUCACAO PUBLICA HENFIL',\n",
       "       'EM ALICE DO AMARAL PEIXOTO', 'EM CELESTINO SILVA',\n",
       "       'ESCOLA MUNICIPAL FLORIANO PEIXOTO', 'EM PEREIRA PASSOS',\n",
       "       'E.M PRESIDENTE JOSE LINHARES', 'EM SANTA CATARINA',\n",
       "       'E.M TIA CIATA', 'EM URUGUAI', 'EM MARIO CLAUDIO',\n",
       "       'CIEP PRESIDENTE AGOSTINHO NETO', 'CIEP TANCREDO NEVES',\n",
       "       'EM ALBERTO BARTH', 'EM CICERO PENA', 'EM COCIO BARCELOS',\n",
       "       'EM HENRIQUE DODSWORTH', 'EM MEXICO',\n",
       "       'ESCOLA MUNICIPAL MINAS GERAIS', 'EM PRESIDENTE DA COSTA E SILVA',\n",
       "       'EM SENADOR CORREA', 'CIEP SAMUEL WEINER', 'EM AFRANIO PEIXOTO',\n",
       "       'E.M AZEVEDO SODRE', 'EM DUQUE DE CAXIAS',\n",
       "       'ESCOLA MUNICIPAL EQUADOR', 'EM LAUDIMIA TROTTA',\n",
       "       'EM PRUDENTE DE MORAES',\n",
       "       'ESCOLA MUNICIPAL GENERAL HUMBERTO DE SOUZA MELLO',\n",
       "       'ESCOLA MUNICIPAL BARAO HOMEM DE MELO', 'EM ALMIRANTE TAMANDARE',\n",
       "       'EM LUCIA MIGUEL PEREIRA', 'E.M NOSSA SENHORA DA POMPEIA',\n",
       "       'EM SANTOS ANJOS', 'EM ALAGOAS', 'EM BRIGADEIRO FARIA LIMA',\n",
       "       'EM FELIX PACHECO', 'ESCOLA MUNICIPAL GEORGE SUMMER',\n",
       "       'EM PROFESSOR AUGUSTO PAULINO', 'EM RIO GRANDE DO SUL',\n",
       "       'E.M. SARMIENTO', 'EM TAGORE', 'CIEP CHANCELER WILLY BRANDT',\n",
       "       'CIEP PATRICE LUMUMBA',\n",
       "       'CENTRO INTEGRADO DE EDUCACAO PUBLICA VINICIUS DE MORAES',\n",
       "       'EM DOMINGOS BEBIANO', 'EM CARDEAL CAMARA', 'EM JOAQUIM RIBEIRO',\n",
       "       'EM PERNAMBUCO', 'ESCOLA MUNICIPAL ALBINO SOUZA CRUZ',\n",
       "       'EM ANDRADE NEVES', 'EM ARY QUINTELLA', 'EM BERLIM',\n",
       "       'CIEP NELSON MANDELA', 'EM BERNARDO VASCONCELOS', 'EM BRANT HORTA',\n",
       "       'EM CHILE', 'EM CIENTISTA MARIO KROEFF', 'EM DILERMANDO CRUZ',\n",
       "       'E.M JOAO DE DEUS', 'EM PADRE MANUEL DE NOBREGA',\n",
       "       'CENTRO INTEGRADO DE EDUCACAO PUBLICA ELIS REGINA',\n",
       "       'EM PEDRO LESSA', 'EM PROFESSOR JOSUE DE CASTRO',\n",
       "       'ESCOLA MUNICIPAL CARDEAL ARCOVERDE', 'EM THOMAS JEFFERSON',\n",
       "       'EM ABEILARD FEIJO', 'ESCOLA MUNICIPAL ANISIO TEIXEIRA',\n",
       "       'E.M. ANDREA FONTES PEIXOTO', 'EM GRANDJEAN DE MONTIGNY',\n",
       "       'EM MARIO PIRAGIBE', 'ESCOLA MUNICIPAL PARAIBA', 'E.M. PIAUI',\n",
       "       'E.M. ASPIRANTE CARLOS ALFREDO', 'EM CECILIA MEIRELES',\n",
       "       'EM ESPIRITO SANTO', 'ESCOLA MUNICIPAL GRECIA',\n",
       "       'EM BARONESA DE SAAVEDRA', 'EM MOZART LAGO', 'E.M. PARA',\n",
       "       'EM PARANA', 'EM CERVANTES', 'ESCOLA MUNICIPAL LUIZ DE CAMOES',\n",
       "       'CIEP JOAO BATISTA DOS SANTOS', 'EM HELENA LOPES ABRANCHES',\n",
       "       'CIEP MARGARET MEE', 'EM CLAUDIO BESSERMAN VIANNA - BUSSUNDA',\n",
       "       'ESCOLA MUNICIPAL FINLANDIA',\n",
       "       'E.M. PROFESSOR TEOFILO MOREIRA DA COSTA', 'EM 25 DE ABRIL',\n",
       "       'EM FRANCIS HIME', 'EM HONDURAS', 'EM MENEZES CORTES',\n",
       "       'ESCOLA MUNICIPAL NELSON RODRIGUES', 'EM PABLO NERUDA',\n",
       "       'EM VIRGILIO VARZEA', 'CIEP ANTONIO EVARISTO DE MORAES',\n",
       "       'E.M. JOSE MAURO DE VASCONCELOS', 'EM LEONARDO DA VINCI',\n",
       "       'E.M. NACOES UNIDAS', 'CIEP THOMAS JEFFERSON',\n",
       "       'EM CORYNTHO DA FONSECA', 'EM. ENGENHEIRO LAFAYETTE DE ANDRADA',\n",
       "       'EM LAURO MULLER', 'EM MOACIR PADILHA',\n",
       "       'ESCOLA MUNICIPAL PADRE LEONEL FRANCA', 'EM PAULO MARANHAO',\n",
       "       'EM TASSO DA SILVEIRA', 'EM VISCONDE DE PORTO SEGURO',\n",
       "       'CIEP CLEMENTINA DE JESUS',\n",
       "       'CIEP FRANCISCO CAVALCANTE PONTES DE MIRANDA',\n",
       "       'CIEP HERIVELTO MARTINS', 'CIEP PROFESSOR DARCI RIBEIRO',\n",
       "       'COLEGIO MUNICIPAL PRESIDENTE ANTONIO CARLOS',\n",
       "       'EM ALFREDO CESARIO ALVIM', 'EM CORA CORALINA',\n",
       "       'E.M FERNANDO COSTA', 'E.M PROFESSOR PAULO SILVA',\n",
       "       'EM JESUS SOARES PEREIRA', 'CIEP ISMAEL NERY',\n",
       "       'CENTRO INTEGRADO DE EDUCACAO PUBLICA MAJOR MANUEL GOMES ARCHER',\n",
       "       'EM ANDRE VIDAL DE NEGREIROS', 'EM FERNANDO AZEVEDO',\n",
       "       'EM MARECHAL PEDRO CAVALCANTI', 'ESCOLA MUNICIPAL NELSON ROMERO',\n",
       "       'EM PESTALOZZI', 'EM PROFESSORA FLAVIA DOS SANTOS SOARES',\n",
       "       'E.M PROFESSORA LEILA MEHL MENEZES DE MATTOS',\n",
       "       'EM PROFESSORA SILVIA DE ARAUJO TOLEDO', 'EM WALQUIR PEREIRA',\n",
       "       'CIEP HILDEBRANDO DE ARAUJO GOES', 'EM BERTHA LUTZ',\n",
       "       'EM DEBORA MENDES DE MORAES', 'EM ENGENHEIRO GASTAO RANGEL',\n",
       "       'EM JONATAS SERRANO', 'E.M. NARCISA AMALIA',\n",
       "       'EM PROFESSOR CASTILHO'], dtype=object)"
      ]
     },
     "execution_count": 112,
     "metadata": {},
     "output_type": "execute_result"
    }
   ],
   "source": [
    "# Verificando as entradas distintas para escolas_postos\n",
    "escolas.escolas_postos.unique()"
   ]
  },
  {
   "cell_type": "code",
   "execution_count": 113,
   "metadata": {},
   "outputs": [
    {
     "data": {
      "text/plain": [
       "array(['CAJU', 'BENFICA', 'CENTRO', 'SAO CRISTOVAO', 'RIO COMPRIDO',\n",
       "       'IPANEMA', 'SANTA TERESA', 'HUMAITA', 'CATETE', 'FLAMENGO',\n",
       "       'COPACABANA', 'BOTAFOGO', 'URCA', 'LARANJEIRAS', 'TIJUCA',\n",
       "       'ANDARAI', 'PRACA DA BANDEIRA', 'GRAJAU', 'VILA ISABEL',\n",
       "       'MARACANA/ VILA ISABEL', 'MARACANA/ TIJUCA', 'VIDIGAL',\n",
       "       'SAO CONRADO', 'TODOS OS SANTOS', 'LEBLON', 'PILARES',\n",
       "       'AGUA SANTA', 'PIEDADE', 'RIACHUELO', 'MEIER', 'ENGENHO DE DENTRO',\n",
       "       'ENGENHO NOVO', 'JACARE', 'DEL CASTILHO', 'INHAUMA',\n",
       "       'PARADA DE LUCAS', 'MARIA DA GRACA', 'MANGUINHOS',\n",
       "       'JARDIM AMERICA', 'PENHA CIRCULAR', 'OLARIA', 'CAMPO GRANDE',\n",
       "       'PENHA', 'RAMOS', 'VIGARIO GERAL', 'BONSUCESSO', 'MADUREIRA',\n",
       "       'ACARI', 'CACUIA', 'JARDIM GUANABARA', 'PARQUE COLUMBIA', 'PAVUNA',\n",
       "       'ANCHIETA', 'GUADALUPE', 'TURIACU', 'VILA KOSMOS', 'CAVALCANTI',\n",
       "       'VILA DA PENHA', 'REALENGO', 'OSWALDO CRUZ', 'ROCHA MIRANDA',\n",
       "       'CASCADURA', 'BENTO RIBEIRO', 'COLEGIO', 'CIDADE DE DEUS',\n",
       "       'GARDENIA AZUL', 'RECREIO', 'RIO DAS PEDRAS', 'CAMORIM',\n",
       "       'VARGEM GRANDE', 'FREGUESIA JPA', 'TAQUARA', 'PRACA SECA',\n",
       "       'PECHINCHA', 'SENADOR CAMARA', 'BANGU', 'DEODORO', 'PADRE MIGUEL',\n",
       "       'JARDIM SULACAP', 'SENADOR VASCONCELOS', 'AUGUSTO VASCONCELOS',\n",
       "       'COSMOS', 'INHOAIBA', 'SANTA CRUZ', 'PACIENCIA', 'SEPETIBA',\n",
       "       'NOVA SEPETIBA', 'PEDRA DE GUARATIBA', 'GUARATIBA',\n",
       "       'ILHA DE GUARATIBA'], dtype=object)"
      ]
     },
     "execution_count": 113,
     "metadata": {},
     "output_type": "execute_result"
    }
   ],
   "source": [
    "# Verificando as entradas distintas para bairro\n",
    "escolas.bairro.unique()"
   ]
  },
  {
   "cell_type": "code",
   "execution_count": 114,
   "metadata": {},
   "outputs": [
    {
     "data": {
      "text/plain": [
       "array(['RUA CARLOS SEIDL S/NO', 'RUA EBANO 187', 'R. DO LAVRADIO, 56',\n",
       "       'PRACA ARGENTINA 20', 'PRACA CONDESSA PAULO DE FRONTIN 45',\n",
       "       'R. BARAO DA TORRE, 90', 'RUA EDUARDO SANTOS 38',\n",
       "       'AVENIDA PRESIDENTE VARGAS S/NO', 'RUA ANA NERI 192',\n",
       "       'R. HADDOCK LOBO, 148', 'RUA VISCONDE DE SILVA S/NO',\n",
       "       'RUA DO CATETE 77', 'AVENIDA OSWALDO CRUZ 124',\n",
       "       'AV. ATLANTICA, 1976', 'R. BARAO DE IPANEMA, 34',\n",
       "       'AVENIDA EPITACIO PESSOA 474', 'RUA DA MATRIZ 67',\n",
       "       'AVENIDA PASTEUR 433', 'RUA ASSUNCAO, 257', 'R. SEN. CORREA',\n",
       "       'AV HEITOR BELTRAO, S/NO', 'R. FERREIRA PONTES, 328',\n",
       "       'RUA BARAO DE UBA 331', 'R. MAL. JOFRE, 74',\n",
       "       'BOULEVARD 28 DE SETEMBRO, 353', 'R. ANTONIO BASILIO, 370',\n",
       "       'RUA ENES DE SOUSA 36', 'R. OITO DE DEZEMBRO, 275',\n",
       "       'R. ALM. JOAO CANDIDO BRASIL, 352',\n",
       "       'AVENIDA PRESIDENTE JOAO GOULART 296',\n",
       "       'RUA MARTAGAO GESTEIRA S/NDEG', 'R. CIRNE MAIA, 109',\n",
       "       'RUA HUMBERTO DE CAMPOS S/NDEG', 'AV. DOM HELDER CAMARA 6742',\n",
       "       'RUA VIOLETA S/NO', 'R. ASSIS CARNEIRO, 649', 'R. ANA NERI',\n",
       "       'RUA CONEGO TOBIAS 116', 'RUA ADOLFO BERGAMINI, 201',\n",
       "       'RUA VINTE QUATRO DE MAIO 931', 'PCA. FREDERICO DUVAL S/NO',\n",
       "       'RUA ALVARO SEIXAS S/NO', 'PRACA DA CONFEDERACAO SUICA, S/NO',\n",
       "       'AV. DOM HELDER CAMARA 1715', 'ESTR. ADHEMAR BEBIANO 1870',\n",
       "       'R. ANAMA, 98', 'PCA. SOLDADO COSME DOS SANTOS 28',\n",
       "       'RUA CONDE DE AZAMBUJA 579', 'AV. DOS DEMOCRATICOS 268',\n",
       "       'RUA VIANA DO CASTELO. S/NO', 'RUA ENG. MOREIRA LIMA 54',\n",
       "       'PCA. RAMOS FIGUEIRA 20', 'PRACA DANIEL LAMES, S/N',\n",
       "       'PCA. SANTA ROSALIA, 100', 'RUA BENTO CARDOSO, 130',\n",
       "       'PCA. BELMONTE 15', 'RUA DO COUTO, 91',\n",
       "       'AV. TEIXEIRA DE CASTRO, 407', 'PCA. ALMEIDA GARRET S/NO',\n",
       "       'PRACA ELBA, 1215', 'RUA PRINCIPAL S/N.O', 'RUA ADAIL, 49',\n",
       "       'AV. BRASIL 4040 RUA DA VITORIA', 'RUA AGOSTINHO BARBALHO 401',\n",
       "       'AVENIDA PASTOR MARTIN LUTHER KING JR S/NO',\n",
       "       'ESTRADA DA CACUIA 1386', 'RUA SERENATA, 40',\n",
       "       'RUA FAUSTO E CASTRO S/NO', 'PRACA DOS UCRANIANOS, S/NO',\n",
       "       'PRACA NOSSA SENHORA DAS DORES, S/NO',\n",
       "       'ESTRADA MARECHAL ALENCASTRO 4.035', 'AVENIDA BRASIL 23.364',\n",
       "       'RUA IBIA 105', 'R. SD. SERVINO MENGARDA, 260',\n",
       "       'RUA HERCULANO PENA, S/N', 'AV. BRAZ DE PINA, 1614',\n",
       "       'R. MAL. BIBIANO COSTALAT, 483-639',\n",
       "       'RUA JOSE CARVALHO SALGADO S/N.O', 'AV. DOS ITALIANOS 500',\n",
       "       'AV. ERNANI CARDOSO 316', 'RUA ABILIO DOS SANTOS 170',\n",
       "       'ESTR. LUIZDE CAMOES, 1446', 'RUA EDGAR WERNECK, 1.565',\n",
       "       'RUA ACAPORI 495', 'RUA MINISTRO ALIOMAR BALEEIRO S/NO',\n",
       "       'ESTRADA DE JACAREPAGUA 3327', 'R. IGARAPE-ACU',\n",
       "       'RUA ESPERANCA 387', 'RUA MAMORE 78', 'ESTRADA PAU DA FOME 196',\n",
       "       'PRACA BARAO DA TAQUARA 12', 'PRACA JOSE ALVES DE AZEVEDO 43',\n",
       "       'RUA FREI LUIZ ALEVATO S/NDEG', 'ESTRADA DO MAPUA, S/NO RUA 3',\n",
       "       'RUA JOSE SILVA 155', 'AVENIDA DE SANTA CRUZ S/NDEG',\n",
       "       'RUA MARLIERIA S/NO', 'RUA RENATO REBECCHI S/N.DEG',\n",
       "       'RUA DOS LIMADORES S/NDEG', 'ESTRADA DO ENGENHO NOVO S/NO',\n",
       "       'RUA URUQUE S/N.DEG', 'AV. DUQUE DE CAXIAS, 170',\n",
       "       'PRACA DANIEL LAMES, S/NO', 'R. ROSA DE ALMEIDA, 113',\n",
       "       'RUA GENERAL GOMES DE CASTRO 30', 'AVENIDA CANAL S/NDEG',\n",
       "       'RUA DO GOVERNO 866', 'RUA GENERAL BERNARDINO DE MATOS S/N.O',\n",
       "       'RUA TEOFILO GUIMARAES 604', 'AV. ALHAMBRA S/NO',\n",
       "       'ESTRADA MORICABA S/NO', 'PRACA SANTO ANASTACIO, S/N',\n",
       "       'R. CONCHAS, S/N', 'R. PEQUIA, 97',\n",
       "       'RUA RIO DA PRATA, R. LUISA MARILAC, 20',\n",
       "       'RUA VOTORANTIM S/N KM 10 MENDANHA', 'RUA JOSE ALBANO, S/NO',\n",
       "       'RUA JAIRO CORREA S/NO', 'R. CONSOLACAO 138',\n",
       "       'AVENIDA CESARIO DE MELO S/NDEG',\n",
       "       'RUA CABO SAULO DE VASCONCELOS S/N.O', 'RUA FELIPE CARDOSO 750',\n",
       "       'RUA DAS PALMEIRAS IMPERIAIS S/NO', 'RUA PORTO FIRME S/N.O',\n",
       "       'RUA JOSE BALDINO S/N.O', 'RUA SEVERIANO DAS CHAGAS S/NO',\n",
       "       'RUA EUDALDO GOMES DA SILVA S/N.O CONJ URUCANIA',\n",
       "       'AVENIDA MARIO PEREIRA DOS SANTOS S/N.O',\n",
       "       'AVENIDA CANAL 3 S/N.O CONJ. CESARAO',\n",
       "       'ESTRADA DE SEPETIBA S/N BLOCO 1', 'ESTRADA DA PEDRA, S/N.O',\n",
       "       'ESTRADA DO PIAI 2075', 'RUA BELCHIOR DA FONSECA 643',\n",
       "       'ESTRADA DO MAGARCA 9.183', 'ESTRADA DO MATO ALTO, S/NO',\n",
       "       'ESTRADA TEODORETO DE CAMARGO S/N.O', 'CAMINHO DA MATRIZ 4406'],\n",
       "      dtype=object)"
      ]
     },
     "execution_count": 114,
     "metadata": {},
     "output_type": "execute_result"
    }
   ],
   "source": [
    "# Verificando as entradas distintas para endereco\n",
    "escolas.endereco.unique()"
   ]
  },
  {
   "cell_type": "markdown",
   "metadata": {},
   "source": [
    "Nesse caso, por exemplo, vê-se que existem siglas em escolas_postos:\n",
    "* \"EM\", \"E.M\", \"E.M\" ou ainda \"EM.\" parecem substituir \"ESCOLA MUNICIPAL\"\n",
    "* \"CIEP\" parece substituir \"CENTRO INTEGRADO DE EDUCAÇÃO PUBLICA\".\n",
    "\n",
    "Em bairro, existem alguns casos que contêm a string \"MARACANA/ \" antes do nome do bairro. Idealmente, teríamos uma lista oficial de bairros para fazer a comparação.\n",
    "\n",
    "\n",
    "Em endereço, verificam-se os seguintes casos:\n",
    "* \"R.\" parece substituir \"RUA\"\n",
    "* \"AV\" e \"AV.\" parecem substituir \"AVENIDA\"\n",
    "* \"PCA.\" parece substituir \"PRACA\"\n",
    "* \"ESTR.\" parece substituir \"ESTRADA\"\n",
    "* \"S/NO\", \"S/N.O\", \"S/N\", \"S/NDEG\", \"S/N.DEG\" (ESSES 2 ÚLTIMO EU NÃO CONHEÇO) são nomenclaturas que parecem significar \"SEM NÚMERO\"\n",
    "* Em alguns casos, como \"R. SEN. CORREA\" e \"R. MAL. JOFRE\", existe siglas no nome da rua. Idealmente, teríamos uma base oficial de ruas em bairros para validar o nome da rua, mas como não temos a base nem o conhecimento das ruas no estado em questão, esses casos não serão tratados.\n",
    "* Alguns têm vírgulas a separar o número do logradouro, outros não\n",
    "\n",
    "Ressalta-se que só foi possível verificar cada caso porque se trata de uma base de dados pequena. Caso contrário, poderiam ser utilizadas técnicas de amostragem, nuvem de palavras, ou outra técnica para identificar e tratar as siglas.\n"
   ]
  },
  {
   "cell_type": "markdown",
   "metadata": {},
   "source": [
    "## Tratamento de material_ditatico.csv"
   ]
  },
  {
   "cell_type": "markdown",
   "metadata": {},
   "source": [
    "## Tratamento de subprefeituras.csv"
   ]
  },
  {
   "cell_type": "markdown",
   "metadata": {},
   "source": [
    "## Criação dos bancos finais"
   ]
  },
  {
   "cell_type": "markdown",
   "metadata": {},
   "source": [
    "## Desafio"
   ]
  }
 ],
 "metadata": {
  "kernelspec": {
   "display_name": "Python 3",
   "language": "python",
   "name": "python3"
  },
  "language_info": {
   "codemirror_mode": {
    "name": "ipython",
    "version": 3
   },
   "file_extension": ".py",
   "mimetype": "text/x-python",
   "name": "python",
   "nbconvert_exporter": "python",
   "pygments_lexer": "ipython3",
   "version": "3.10.5"
  },
  "orig_nbformat": 4
 },
 "nbformat": 4,
 "nbformat_minor": 2
}
