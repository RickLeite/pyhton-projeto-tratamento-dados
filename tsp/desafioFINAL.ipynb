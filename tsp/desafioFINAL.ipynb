{
 "cells": [
  {
   "cell_type": "code",
   "execution_count": 1,
   "id": "52e5f568-e304-4d25-9ea8-9699dea89d75",
   "metadata": {},
   "outputs": [],
   "source": [
    "import pandas as pd"
   ]
  },
  {
   "cell_type": "code",
   "execution_count": 2,
   "id": "b614de1c-1a61-4c84-a783-0800ed76b3db",
   "metadata": {},
   "outputs": [
    {
     "data": {
      "text/html": [
       "<div>\n",
       "<style scoped>\n",
       "    .dataframe tbody tr th:only-of-type {\n",
       "        vertical-align: middle;\n",
       "    }\n",
       "\n",
       "    .dataframe tbody tr th {\n",
       "        vertical-align: top;\n",
       "    }\n",
       "\n",
       "    .dataframe thead th {\n",
       "        text-align: right;\n",
       "    }\n",
       "</style>\n",
       "<table border=\"1\" class=\"dataframe\">\n",
       "  <thead>\n",
       "    <tr style=\"text-align: right;\">\n",
       "      <th></th>\n",
       "      <th>id</th>\n",
       "      <th>escolas_postos</th>\n",
       "      <th>bairro</th>\n",
       "      <th>endereco</th>\n",
       "      <th>lat</th>\n",
       "      <th>lon</th>\n",
       "      <th>quantidade</th>\n",
       "      <th>quantidade_original</th>\n",
       "      <th>nome</th>\n",
       "      <th>subprefeitura</th>\n",
       "    </tr>\n",
       "  </thead>\n",
       "  <tbody>\n",
       "    <tr>\n",
       "      <th>0</th>\n",
       "      <td>178</td>\n",
       "      <td>CENTRO INTEGRADO DE EDUCACAO PUBLICA HENFIL</td>\n",
       "      <td>CAJU</td>\n",
       "      <td>RUA CARLOS SEIDL</td>\n",
       "      <td>-22.88089</td>\n",
       "      <td>-43.22533</td>\n",
       "      <td>20.0</td>\n",
       "      <td>20</td>\n",
       "      <td>CAJU</td>\n",
       "      <td>CENTRO</td>\n",
       "    </tr>\n",
       "    <tr>\n",
       "      <th>1</th>\n",
       "      <td>634</td>\n",
       "      <td>ESCOLA MUNICIPAL ALICE DO AMARAL PEIXOTO</td>\n",
       "      <td>BENFICA</td>\n",
       "      <td>RUA EBANO 187</td>\n",
       "      <td>-22.88957</td>\n",
       "      <td>-43.23620</td>\n",
       "      <td>121.0</td>\n",
       "      <td>121</td>\n",
       "      <td>BENFICA</td>\n",
       "      <td>CENTRO</td>\n",
       "    </tr>\n",
       "    <tr>\n",
       "      <th>2</th>\n",
       "      <td>483</td>\n",
       "      <td>ESCOLA MUNICIPAL CELESTINO SILVA</td>\n",
       "      <td>CENTRO</td>\n",
       "      <td>RUA DO LAVRADIO 56</td>\n",
       "      <td>-22.90929</td>\n",
       "      <td>-43.18358</td>\n",
       "      <td>220.0</td>\n",
       "      <td>220</td>\n",
       "      <td>CENTRO</td>\n",
       "      <td>CENTRO</td>\n",
       "    </tr>\n",
       "    <tr>\n",
       "      <th>3</th>\n",
       "      <td>476</td>\n",
       "      <td>ESCOLA MUNICIPAL FLORIANO PEIXOTO</td>\n",
       "      <td>SAO CRISTOVAO</td>\n",
       "      <td>PRACA ARGENTINA 20</td>\n",
       "      <td>-22.89763</td>\n",
       "      <td>-43.22746</td>\n",
       "      <td>190.0</td>\n",
       "      <td>190</td>\n",
       "      <td>SAO CRISTOVAO</td>\n",
       "      <td>CENTRO</td>\n",
       "    </tr>\n",
       "  </tbody>\n",
       "</table>\n",
       "</div>"
      ],
      "text/plain": [
       "    id                               escolas_postos         bairro  \\\n",
       "0  178  CENTRO INTEGRADO DE EDUCACAO PUBLICA HENFIL           CAJU   \n",
       "1  634     ESCOLA MUNICIPAL ALICE DO AMARAL PEIXOTO        BENFICA   \n",
       "2  483             ESCOLA MUNICIPAL CELESTINO SILVA         CENTRO   \n",
       "3  476            ESCOLA MUNICIPAL FLORIANO PEIXOTO  SAO CRISTOVAO   \n",
       "\n",
       "             endereco       lat       lon  quantidade  quantidade_original  \\\n",
       "0    RUA CARLOS SEIDL -22.88089 -43.22533        20.0                   20   \n",
       "1       RUA EBANO 187 -22.88957 -43.23620       121.0                  121   \n",
       "2  RUA DO LAVRADIO 56 -22.90929 -43.18358       220.0                  220   \n",
       "3  PRACA ARGENTINA 20 -22.89763 -43.22746       190.0                  190   \n",
       "\n",
       "            nome subprefeitura  \n",
       "0           CAJU        CENTRO  \n",
       "1        BENFICA        CENTRO  \n",
       "2         CENTRO        CENTRO  \n",
       "3  SAO CRISTOVAO        CENTRO  "
      ]
     },
     "execution_count": 2,
     "metadata": {},
     "output_type": "execute_result"
    }
   ],
   "source": [
    "df = pd.read_csv('data.csv')\n",
    "df"
   ]
  },
  {
   "cell_type": "code",
   "execution_count": 3,
   "id": "eb6fbcb1-f10f-4ed1-afaf-d584d15b0c9e",
   "metadata": {},
   "outputs": [],
   "source": [
    "coordinates = df[['lon', 'lat']].values\n",
    "names = df['escolas_postos'].values"
   ]
  },
  {
   "cell_type": "code",
   "execution_count": 4,
   "id": "50f91f16-aae6-4106-8095-1c19c418e236",
   "metadata": {},
   "outputs": [],
   "source": [
    "locations = df[['lon', 'lat']].values.tolist()\n",
    "metrics = ['duration']"
   ]
  },
  {
   "cell_type": "code",
   "execution_count": 5,
   "id": "1c4df591-7f84-4578-8c19-cb7147119c28",
   "metadata": {},
   "outputs": [],
   "source": [
    "body = {\n",
    "    \"locations\": locations,\n",
    "    \"metrics\": metrics\n",
    "}"
   ]
  },
  {
   "cell_type": "code",
   "execution_count": 6,
   "id": "b551e590-9abc-4713-a045-c16f324e1541",
   "metadata": {},
   "outputs": [
    {
     "data": {
      "text/plain": [
       "{'locations': [[-43.22533, -22.88089],\n",
       "  [-43.2362, -22.88957],\n",
       "  [-43.18358, -22.90929],\n",
       "  [-43.22746, -22.89763]],\n",
       " 'metrics': ['duration']}"
      ]
     },
     "execution_count": 6,
     "metadata": {},
     "output_type": "execute_result"
    }
   ],
   "source": [
    "body"
   ]
  },
  {
   "cell_type": "code",
   "execution_count": 8,
   "id": "12c14a8f-0360-408a-99dc-aac70bee0dcf",
   "metadata": {},
   "outputs": [
    {
     "data": {
      "text/plain": [
       "array(['CENTRO INTEGRADO DE EDUCACAO PUBLICA HENFIL',\n",
       "       'ESCOLA MUNICIPAL ALICE DO AMARAL PEIXOTO',\n",
       "       'ESCOLA MUNICIPAL CELESTINO SILVA',\n",
       "       'ESCOLA MUNICIPAL FLORIANO PEIXOTO'], dtype=object)"
      ]
     },
     "execution_count": 8,
     "metadata": {},
     "output_type": "execute_result"
    }
   ],
   "source": [
    "names"
   ]
  },
  {
   "cell_type": "code",
   "execution_count": 9,
   "id": "571e6490-c10b-466a-b3d7-d4dfa51791dd",
   "metadata": {},
   "outputs": [
    {
     "name": "stdout",
     "output_type": "stream",
     "text": [
      "200 OK\n",
      "{\"durations\":[[0.0,301.03,1020.37,537.25],[521.68,0.0,827.71,344.58],[703.68,706.23,0.0,637.18],[557.72,280.92,673.68,0.0]],\"destinations\":[{\"location\":[-43.22543,-22.880596],\"snapped_distance\":34.22},{\"location\":[-43.236124,-22.889655],\"snapped_distance\":12.23},{\"location\":[-43.183432,-22.909236],\"snapped_distance\":16.29},{\"location\":[-43.227804,-22.897738],\"snapped_distance\":37.21}],\"sources\":[{\"location\":[-43.22543,-22.880596],\"snapped_distance\":34.22},{\"location\":[-43.236124,-22.889655],\"snapped_distance\":12.23},{\"location\":[-43.183432,-22.909236],\"snapped_distance\":16.29},{\"location\":[-43.227804,-22.897738],\"snapped_distance\":37.21}],\"metadata\":{\"attribution\":\"openrouteservice.org | OpenStreetMap contributors\",\"service\":\"matrix\",\"timestamp\":1694475470778,\"query\":{\"locations\":[[-43.22533,-22.88089],[-43.2362,-22.88957],[-43.18358,-22.90929],[-43.22746,-22.89763]],\"profile\":\"driving-hgv\",\"responseType\":\"json\",\"metrics\":[\"duration\"]},\"engine\":{\"version\":\"7.1.0\",\"build_date\":\"2023-07-09T01:31:50Z\",\"graph_date\":\"2023-09-03T08:25:27Z\"}}}\n"
     ]
    }
   ],
   "source": [
    "import requests\n",
    "\n",
    "headers = {\n",
    "    'Accept': 'application/json, application/geo+json, application/gpx+xml, img/png; charset=utf-8',\n",
    "    'Authorization': '',\n",
    "    'Content-Type': 'application/json; charset=utf-8'\n",
    "}\n",
    "call = requests.post('https://api.openrouteservice.org/v2/matrix/driving-hgv', json=body, headers=headers)\n",
    "\n",
    "print(call.status_code, call.reason)\n",
    "print(call.text)"
   ]
  },
  {
   "cell_type": "code",
   "execution_count": 10,
   "id": "d234a60e-0e96-4ab6-832b-d410f70e5d76",
   "metadata": {},
   "outputs": [
    {
     "data": {
      "text/plain": [
       "[[0.0, 301.03, 1020.37, 537.25],\n",
       " [521.68, 0.0, 827.71, 344.58],\n",
       " [703.68, 706.23, 0.0, 637.18],\n",
       " [557.72, 280.92, 673.68, 0.0]]"
      ]
     },
     "execution_count": 10,
     "metadata": {},
     "output_type": "execute_result"
    }
   ],
   "source": [
    "import json\n",
    "data = json.loads(call.text)\n",
    "durations = data['durations'] \n",
    "durations"
   ]
  },
  {
   "cell_type": "code",
   "execution_count": 13,
   "id": "41d72770-d1c4-4b04-9283-d2d82e30b105",
   "metadata": {},
   "outputs": [
    {
     "name": "stdout",
     "output_type": "stream",
     "text": [
      "[[   0.    301.03 1020.37  537.25]\n",
      " [ 521.68    0.    827.71  344.58]\n",
      " [ 703.68  706.23    0.    637.18]\n",
      " [ 557.72  280.92  673.68    0.  ]]\n"
     ]
    }
   ],
   "source": [
    "import numpy as np\n",
    "import routingpy as rp\n",
    "\n",
    "np_durations = np.matrix(durations)\n",
    "print(np_durations)"
   ]
  },
  {
   "cell_type": "code",
   "execution_count": 14,
   "id": "64ff6335-9b51-440a-9eb4-63f76ed3e7d0",
   "metadata": {},
   "outputs": [],
   "source": [
    "def symmetricize(m, high_int=None):\n",
    "    \n",
    "    # if high_int not provided, make it equal to 10 times the max value:\n",
    "    if high_int is None:\n",
    "        high_int = round(10*m.max())\n",
    "        \n",
    "    m_bar = m.copy()\n",
    "    np.fill_diagonal(m_bar, 0)\n",
    "    u = np.matrix(np.ones(m.shape) * high_int)\n",
    "    np.fill_diagonal(u, 0)\n",
    "    m_symm_top = np.concatenate((u, np.transpose(m_bar)), axis=1)\n",
    "    m_symm_bottom = np.concatenate((m_bar, u), axis=1)\n",
    "    m_symm = np.concatenate((m_symm_top, m_symm_bottom), axis=0)\n",
    "    \n",
    "    return m_symm.astype(int) # Concorde requires integer weights"
   ]
  },
  {
   "cell_type": "code",
   "execution_count": 15,
   "id": "80f02704-c025-42d9-a137-191aad613bf6",
   "metadata": {},
   "outputs": [
    {
     "data": {
      "text/plain": [
       "matrix([[    0, 10204, 10204, 10204,     0,   521,   703,   557],\n",
       "        [10204,     0, 10204, 10204,   301,     0,   706,   280],\n",
       "        [10204, 10204,     0, 10204,  1020,   827,     0,   673],\n",
       "        [10204, 10204, 10204,     0,   537,   344,   637,     0],\n",
       "        [    0,   301,  1020,   537,     0, 10204, 10204, 10204],\n",
       "        [  521,     0,   827,   344, 10204,     0, 10204, 10204],\n",
       "        [  703,   706,     0,   637, 10204, 10204,     0, 10204],\n",
       "        [  557,   280,   673,     0, 10204, 10204, 10204,     0]])"
      ]
     },
     "execution_count": 15,
     "metadata": {},
     "output_type": "execute_result"
    }
   ],
   "source": [
    "symmetricize(np_durations)"
   ]
  },
  {
   "cell_type": "code",
   "execution_count": 16,
   "id": "1a913871-3892-4300-a12b-24af80c729da",
   "metadata": {},
   "outputs": [],
   "source": [
    "from concorde.problem import Problem\n",
    "from concorde.concorde import Concorde\n",
    "\n",
    "def solve_concorde(matrix):\n",
    "    problem = Problem.from_matrix(matrix)\n",
    "    solver = Concorde()\n",
    "    solution = solver.solve(problem)\n",
    "    print(f'Optimal tour: {solution.tour}')\n",
    "    return solution"
   ]
  },
  {
   "cell_type": "code",
   "execution_count": 22,
   "id": "a68285cb-50a7-4aa6-b02c-1936780a0ca4",
   "metadata": {},
   "outputs": [
    {
     "name": "stdout",
     "output_type": "stream",
     "text": [
      "Optimal tour: [0, 4, 1, 5, 3, 7, 2, 6]\n"
     ]
    }
   ],
   "source": [
    "durations_symm = symmetricize(np_durations)\n",
    "solution = solve_concorde(durations_symm) # pick alternate elements: these correspond to the originals"
   ]
  },
  {
   "cell_type": "code",
   "execution_count": 23,
   "id": "8a09ad53-8f78-40b9-adb4-d62c7b3eb089",
   "metadata": {},
   "outputs": [],
   "source": [
    "tour = solution.tour[::2]\n",
    "\n",
    "# order the original coordinates and names\n",
    "coords_ordered = [coordinates[i].tolist() for i in tour]\n",
    "names_ordered = [names[i] for i in tour]"
   ]
  },
  {
   "cell_type": "code",
   "execution_count": 24,
   "id": "7e38b3d6-26ba-4795-8404-4dc887bb0558",
   "metadata": {},
   "outputs": [
    {
     "data": {
      "text/plain": [
       "['CENTRO INTEGRADO DE EDUCACAO PUBLICA HENFIL',\n",
       " 'ESCOLA MUNICIPAL ALICE DO AMARAL PEIXOTO',\n",
       " 'ESCOLA MUNICIPAL FLORIANO PEIXOTO',\n",
       " 'ESCOLA MUNICIPAL CELESTINO SILVA']"
      ]
     },
     "execution_count": 24,
     "metadata": {},
     "output_type": "execute_result"
    }
   ],
   "source": [
    "names_ordered"
   ]
  },
  {
   "cell_type": "code",
   "execution_count": 27,
   "id": "bfe1cbd9-b5ed-4897-bc3e-6f1817b6fff1",
   "metadata": {},
   "outputs": [
    {
     "data": {
      "text/plain": [
       "[[-43.22533, -22.88089],\n",
       " [-43.2362, -22.88957],\n",
       " [-43.22746, -22.89763],\n",
       " [-43.18358, -22.90929],\n",
       " [-43.22533, -22.88089]]"
      ]
     },
     "execution_count": 27,
     "metadata": {},
     "output_type": "execute_result"
    }
   ],
   "source": [
    "# add back in the first for a complete loop\n",
    "coords_ordered_return = coords_ordered + [coords_ordered[0]]\n",
    "coords_ordered_return"
   ]
  },
  {
   "cell_type": "code",
   "execution_count": 30,
   "id": "e8970a60-8072-4a0b-824f-3a8a08f68454",
   "metadata": {},
   "outputs": [],
   "source": [
    "data = {\"coordinates\": coords_ordered_return}\n",
    "\n",
    "# Convert the dictionary to a JSON-formatted string\n",
    "json_data = json.dumps(data)"
   ]
  },
  {
   "cell_type": "code",
   "execution_count": 31,
   "id": "d9cc82e5-cf79-49c8-b353-c543f21bedc5",
   "metadata": {},
   "outputs": [
    {
     "name": "stdout",
     "output_type": "stream",
     "text": [
      "200 OK\n",
      "{\"bbox\":[-43.236124,-22.914504,-43.183059,-22.880426],\"routes\":[{\"summary\":{\"distance\":19147.8,\"duration\":2023.0000000000002},\"segments\":[{\"distance\":1849.0,\"duration\":301.0,\"steps\":[{\"distance\":449.2,\"duration\":107.8,\"type\":11,\"instruction\":\"Head west on Rua Amanhecer\",\"name\":\"Rua Amanhecer\",\"way_points\":[0,12]},{\"distance\":155.3,\"duration\":37.3,\"type\":0,\"instruction\":\"Turn left onto Rua Interna\",\"name\":\"Rua Interna\",\"way_points\":[12,18]},{\"distance\":397.3,\"duration\":44.2,\"type\":3,\"instruction\":\"Turn sharp right onto Rua Péter Lund\",\"name\":\"Rua Péter Lund\",\"way_points\":[18,26]},{\"distance\":470.1,\"duration\":53.7,\"type\":13,\"instruction\":\"Keep right onto Viaduto Ataulfo Alves\",\"name\":\"Viaduto Ataulfo Alves\",\"way_points\":[26,45]},{\"distance\":239.7,\"duration\":25.0,\"type\":6,\"instruction\":\"Continue straight onto Rua Couto de Magalhães\",\"name\":\"Rua Couto de Magalhães\",\"way_points\":[45,49]},{\"distance\":75.7,\"duration\":18.2,\"type\":1,\"instruction\":\"Turn right onto Praça Padre Souza\",\"name\":\"Praça Padre Souza\",\"way_points\":[49,51]},{\"distance\":61.7,\"duration\":14.8,\"type\":0,\"instruction\":\"Turn left onto Rua Ébano\",\"name\":\"Rua Ébano\",\"way_points\":[51,52]},{\"distance\":0.0,\"duration\":0.0,\"type\":10,\"instruction\":\"Arrive at Rua Ébano, on the right\",\"name\":\"-\",\"way_points\":[52,52]}]},{\"distance\":3096.6,\"duration\":344.6,\"steps\":[{\"distance\":152.8,\"duration\":36.7,\"type\":11,\"instruction\":\"Head northeast on Rua Ébano\",\"name\":\"Rua Ébano\",\"way_points\":[52,55]},{\"distance\":35.3,\"duration\":8.5,\"type\":1,\"instruction\":\"Turn right onto Praça Padre Souza\",\"name\":\"Praça Padre Souza\",\"way_points\":[55,56]},{\"distance\":112.2,\"duration\":13.5,\"type\":0,\"instruction\":\"Turn left onto Rua Balanita\",\"name\":\"Rua Balanita\",\"way_points\":[56,57]},{\"distance\":73.6,\"duration\":8.8,\"type\":0,\"instruction\":\"Turn left onto Rua Boituva\",\"name\":\"Rua Boituva\",\"way_points\":[57,61]},{\"distance\":1234.0,\"duration\":120.6,\"type\":5,\"instruction\":\"Turn slight right onto Rua Célio Nascimento\",\"name\":\"Rua Célio Nascimento\",\"way_points\":[61,92]},{\"distance\":582.1,\"duration\":62.6,\"type\":1,\"instruction\":\"Turn right onto Rua Ricardo Machado\",\"name\":\"Rua Ricardo Machado\",\"way_points\":[92,106]},{\"distance\":906.5,\"duration\":93.9,\"type\":0,\"instruction\":\"Turn left onto Avenida Roberto Dinamite\",\"name\":\"Avenida Roberto Dinamite\",\"way_points\":[106,121]},{\"distance\":0.0,\"duration\":0.0,\"type\":10,\"instruction\":\"Arrive at Avenida Roberto Dinamite, on the left\",\"name\":\"-\",\"way_points\":[121,121]}]},{\"distance\":6674.9,\"duration\":673.7,\"steps\":[{\"distance\":43.1,\"duration\":7.8,\"type\":11,\"instruction\":\"Head south on Praça Argentina\",\"name\":\"Praça Argentina\",\"way_points\":[121,122]},{\"distance\":165.3,\"duration\":14.9,\"type\":6,\"instruction\":\"Continue straight onto Rua da Emancipação\",\"name\":\"Rua da Emancipação\",\"way_points\":[122,124]},{\"distance\":410.1,\"duration\":57.1,\"type\":0,\"instruction\":\"Turn left onto Rua São Luiz Gonzaga\",\"name\":\"Rua São Luiz Gonzaga\",\"way_points\":[124,135]},{\"distance\":315.2,\"duration\":34.6,\"type\":2,\"instruction\":\"Turn sharp left onto Avenida do Exército\",\"name\":\"Avenida do Exército\",\"way_points\":[135,141]},{\"distance\":1278.3,\"duration\":91.2,\"type\":13,\"instruction\":\"Keep right\",\"name\":\"-\",\"way_points\":[141,152]},{\"distance\":523.2,\"duration\":67.5,\"type\":13,\"instruction\":\"Keep right\",\"name\":\"-\",\"way_points\":[152,167]},{\"distance\":312.2,\"duration\":36.5,\"type\":1,\"instruction\":\"Turn right onto Avenida Francisco Bicalho\",\"name\":\"Avenida Francisco Bicalho\",\"way_points\":[167,171]},{\"distance\":1043.2,\"duration\":104.4,\"type\":12,\"instruction\":\"Keep left onto Avenida Francisco Bicalho\",\"name\":\"Avenida Francisco Bicalho\",\"way_points\":[171,190]},{\"distance\":15.1,\"duration\":3.6,\"type\":1,\"instruction\":\"Turn right\",\"name\":\"-\",\"way_points\":[190,192]},{\"distance\":54.2,\"duration\":9.8,\"type\":2,\"instruction\":\"Turn sharp left onto Avenida Presidente Vargas\",\"name\":\"Avenida Presidente Vargas\",\"way_points\":[192,193]},{\"distance\":800.0,\"duration\":64.7,\"type\":6,\"instruction\":\"Continue straight onto Avenida Presidente Vargas\",\"name\":\"Avenida Presidente Vargas\",\"way_points\":[193,203]},{\"distance\":795.1,\"duration\":70.2,\"type\":1,\"instruction\":\"Turn right onto Rua General Caldwell\",\"name\":\"Rua General Caldwell\",\"way_points\":[203,213]},{\"distance\":211.9,\"duration\":28.8,\"type\":0,\"instruction\":\"Turn left onto Avenida Henrique Valadares\",\"name\":\"Avenida Henrique Valadares\",\"way_points\":[213,217]},{\"distance\":63.1,\"duration\":15.1,\"type\":4,\"instruction\":\"Turn slight left onto Praça da Cruz Vermelha\",\"name\":\"Praça da Cruz Vermelha\",\"way_points\":[217,222]},{\"distance\":541.6,\"duration\":55.6,\"type\":13,\"instruction\":\"Keep right onto Avenida Henrique Valadares\",\"name\":\"Avenida Henrique Valadares\",\"way_points\":[222,232]},{\"distance\":4.6,\"duration\":1.7,\"type\":2,\"instruction\":\"Turn sharp left onto Rua do Lavradio\",\"name\":\"Rua do Lavradio\",\"way_points\":[232,233]},{\"distance\":98.7,\"duration\":10.2,\"type\":6,\"instruction\":\"Continue straight onto Rua do Lavradio\",\"name\":\"Rua do Lavradio\",\"way_points\":[233,234]},{\"distance\":0.0,\"duration\":0.0,\"type\":10,\"instruction\":\"Arrive at Rua do Lavradio, on the left\",\"name\":\"-\",\"way_points\":[234,234]}]},{\"distance\":7527.3,\"duration\":703.7,\"steps\":[{\"distance\":854.0,\"duration\":73.1,\"type\":11,\"instruction\":\"Head north on Rua do Lavradio\",\"name\":\"Rua do Lavradio\",\"way_points\":[234,247]},{\"distance\":197.8,\"duration\":14.2,\"type\":1,\"instruction\":\"Turn right onto Avenida Mem de Sá\",\"name\":\"Avenida Mem de Sá\",\"way_points\":[247,250]},{\"distance\":1526.1,\"duration\":152.3,\"type\":0,\"instruction\":\"Turn left onto Rua Frei Caneca\",\"name\":\"Rua Frei Caneca\",\"way_points\":[250,281]},{\"distance\":329.2,\"duration\":29.6,\"type\":13,\"instruction\":\"Keep right onto Rua Joaquim Palhares\",\"name\":\"Rua Joaquim Palhares\",\"way_points\":[281,289]},{\"distance\":12.0,\"duration\":4.3,\"type\":12,\"instruction\":\"Keep left\",\"name\":\"-\",\"way_points\":[289,290]},{\"distance\":3282.5,\"duration\":229.1,\"type\":12,\"instruction\":\"Keep left\",\"name\":\"-\",\"way_points\":[290,336]},{\"distance\":726.1,\"duration\":57.0,\"type\":13,\"instruction\":\"Keep right\",\"name\":\"-\",\"way_points\":[336,351]},{\"distance\":174.8,\"duration\":41.9,\"type\":1,\"instruction\":\"Turn right onto Rua Retiro Saudoso\",\"name\":\"Rua Retiro Saudoso\",\"way_points\":[351,353]},{\"distance\":356.4,\"duration\":85.5,\"type\":6,\"instruction\":\"Continue straight onto Rua Retiro Saudoso\",\"name\":\"Rua Retiro Saudoso\",\"way_points\":[353,363]},{\"distance\":68.5,\"duration\":16.5,\"type\":0,\"instruction\":\"Turn left onto Rua Amanhecer\",\"name\":\"Rua Amanhecer\",\"way_points\":[363,365]},{\"distance\":0.0,\"duration\":0.0,\"type\":10,\"instruction\":\"Arrive at Rua Amanhecer, on the left\",\"name\":\"-\",\"way_points\":[365,365]}]}],\"bbox\":[-43.236124,-22.914504,-43.183059,-22.880426],\"geometry\":\"vzsjC|myfG@H^x@d@l@jDfCZZBFJLNTRPhCnBh@TdBxAZs@Vc@NOx@m@f@g@T]Vr@FX\\\\fBVv@Zl@xApBtCvDd@t@NjAEh@Kh@ShAEROf@AT@VBRFRNTLLTJTBpCZh@JVJr@f@dAzAx@jArBnCh@t@`AnAw@r@o@j@dAzAeA{A[a@oAcBn@k@cCeDy@j@OJQFU@KCOIkA_BSk@Cc@Bc@b@gDDuAAuAKeAYwA]cA[q@MSeAwAqBiCc@m@SUa@k@Sa@]kAMsADaALw@Xs@LUTUl@s@zCyCpAqAxA}ALRvAtDd@pA`AfCh@pAp@jBDLp@fBBHRd@Pf@h@xA`@fAPXzAO`C]|@Mj@IxD_@bBKbDO|AGj@@jBDnANh@HpBq@vBu@fE_BjACn@GvFW@a@DYlByITk@Zq@DSBQ@WD[DGbCmAyByB_BaByB{BYUIKYs@M}Ai@wDWgAmAiDEYA[@_@FWHW\\\\c@fj@o[r@QzAQd@Ir@]h@i@LUHUH]Dc@GeBWmG]oC?C@YHQr@CfEKtGU\\\\CfAq@^Wd@a@LSLYVw@F[HcA?i@Ag@Ee@c@oBYsAo@wC{@}Dw@kDq@{CcBsHqA}FPCF@_@cBIa@iAeF{@sDaByHoAaFe@{AMm@YmAaAiEUcA|@Sp@MrAYjAU|Be@vE_AfFeAnE{@f@QnFyDcB}G@WR[Nk@CUGQKMSMa@EI?KKq@cC]sAYgAwAyFaAuDOm@}@eDAYG@cDfAo@Rr@`Ex@xELr@f@jCRbARlAv@jEv@~DfA|D|@lCJTRPMpAm@xF[d@`@z@Td@NZf@xEBNRjBH~@XfCJ`Ab@jDNtALlAPfBVtBXhCT`Cx@|HPfAFt@BNJ^X`@|AvBVv@H\\\\L~@zAjIDb@?\\\\ATW|@[d@mAxAo@~@Ub@iC~EIHOBg@GSA]?gBc@eAWg@SIGa@s@c@u@KKKE_@?SJy@vAu@|@QLQJMD{@Fa@BcENgBDyHRqHP_GPu@BgGN_KZi@Da@Hc@\\\\}GnHkAdAs@d@k@ZsBz@{e@tQoAz@a@\\\\g@l@Yd@Up@Oh@I`@KfACjBC|EEpGKr@KhCE^Et@Gd@K`@e@`Ae@n@MJiAdAsDtDcAbAc@b@qArAmDfDmFmBs@U{@Yw@OUI}Bk@oAYq@M]AW?mAF}AHHl@VpA\",\"way_points\":[0,52,121,234,365],\"legs\":[]}],\"metadata\":{\"attribution\":\"openrouteservice.org | OpenStreetMap contributors\",\"service\":\"routing\",\"timestamp\":1694476122446,\"query\":{\"coordinates\":[[-43.22533,-22.88089],[-43.2362,-22.88957],[-43.22746,-22.89763],[-43.18358,-22.90929],[-43.22533,-22.88089]],\"profile\":\"driving-hgv\",\"format\":\"json\"},\"engine\":{\"version\":\"7.1.0\",\"build_date\":\"2023-07-09T01:31:50Z\",\"graph_date\":\"2023-09-03T08:25:27Z\"}}}\n"
     ]
    }
   ],
   "source": [
    "body = {\"coordinates\":[[8.681495,49.41461],[8.686507,49.41943],[8.687872,49.420318]]}\n",
    "\n",
    "headers = {\n",
    "    'Accept': 'application/json, application/geo+json, application/gpx+xml, img/png; charset=utf-8',\n",
    "    'Authorization': '',\n",
    "    'Content-Type': 'application/json; charset=utf-8'\n",
    "}\n",
    "directions = requests.post('https://api.openrouteservice.org/v2/directions/driving-hgv', json=data, headers=headers)\n",
    "\n",
    "print(directions.status_code, directions.reason)\n",
    "print(directions.text)"
   ]
  },
  {
   "cell_type": "code",
   "execution_count": 37,
   "id": "64827515-7d68-4469-a949-9d68afb9430d",
   "metadata": {},
   "outputs": [
    {
     "data": {
      "text/plain": [
       "{'bbox': [-43.236124, -22.914504, -43.183059, -22.880426],\n",
       " 'routes': [{'summary': {'distance': 19147.8, 'duration': 2023.0000000000002},\n",
       "   'segments': [{'distance': 1849.0,\n",
       "     'duration': 301.0,\n",
       "     'steps': [{'distance': 449.2,\n",
       "       'duration': 107.8,\n",
       "       'type': 11,\n",
       "       'instruction': 'Head west on Rua Amanhecer',\n",
       "       'name': 'Rua Amanhecer',\n",
       "       'way_points': [0, 12]},\n",
       "      {'distance': 155.3,\n",
       "       'duration': 37.3,\n",
       "       'type': 0,\n",
       "       'instruction': 'Turn left onto Rua Interna',\n",
       "       'name': 'Rua Interna',\n",
       "       'way_points': [12, 18]},\n",
       "      {'distance': 397.3,\n",
       "       'duration': 44.2,\n",
       "       'type': 3,\n",
       "       'instruction': 'Turn sharp right onto Rua Péter Lund',\n",
       "       'name': 'Rua Péter Lund',\n",
       "       'way_points': [18, 26]},\n",
       "      {'distance': 470.1,\n",
       "       'duration': 53.7,\n",
       "       'type': 13,\n",
       "       'instruction': 'Keep right onto Viaduto Ataulfo Alves',\n",
       "       'name': 'Viaduto Ataulfo Alves',\n",
       "       'way_points': [26, 45]},\n",
       "      {'distance': 239.7,\n",
       "       'duration': 25.0,\n",
       "       'type': 6,\n",
       "       'instruction': 'Continue straight onto Rua Couto de Magalhães',\n",
       "       'name': 'Rua Couto de Magalhães',\n",
       "       'way_points': [45, 49]},\n",
       "      {'distance': 75.7,\n",
       "       'duration': 18.2,\n",
       "       'type': 1,\n",
       "       'instruction': 'Turn right onto Praça Padre Souza',\n",
       "       'name': 'Praça Padre Souza',\n",
       "       'way_points': [49, 51]},\n",
       "      {'distance': 61.7,\n",
       "       'duration': 14.8,\n",
       "       'type': 0,\n",
       "       'instruction': 'Turn left onto Rua Ébano',\n",
       "       'name': 'Rua Ébano',\n",
       "       'way_points': [51, 52]},\n",
       "      {'distance': 0.0,\n",
       "       'duration': 0.0,\n",
       "       'type': 10,\n",
       "       'instruction': 'Arrive at Rua Ébano, on the right',\n",
       "       'name': '-',\n",
       "       'way_points': [52, 52]}]},\n",
       "    {'distance': 3096.6,\n",
       "     'duration': 344.6,\n",
       "     'steps': [{'distance': 152.8,\n",
       "       'duration': 36.7,\n",
       "       'type': 11,\n",
       "       'instruction': 'Head northeast on Rua Ébano',\n",
       "       'name': 'Rua Ébano',\n",
       "       'way_points': [52, 55]},\n",
       "      {'distance': 35.3,\n",
       "       'duration': 8.5,\n",
       "       'type': 1,\n",
       "       'instruction': 'Turn right onto Praça Padre Souza',\n",
       "       'name': 'Praça Padre Souza',\n",
       "       'way_points': [55, 56]},\n",
       "      {'distance': 112.2,\n",
       "       'duration': 13.5,\n",
       "       'type': 0,\n",
       "       'instruction': 'Turn left onto Rua Balanita',\n",
       "       'name': 'Rua Balanita',\n",
       "       'way_points': [56, 57]},\n",
       "      {'distance': 73.6,\n",
       "       'duration': 8.8,\n",
       "       'type': 0,\n",
       "       'instruction': 'Turn left onto Rua Boituva',\n",
       "       'name': 'Rua Boituva',\n",
       "       'way_points': [57, 61]},\n",
       "      {'distance': 1234.0,\n",
       "       'duration': 120.6,\n",
       "       'type': 5,\n",
       "       'instruction': 'Turn slight right onto Rua Célio Nascimento',\n",
       "       'name': 'Rua Célio Nascimento',\n",
       "       'way_points': [61, 92]},\n",
       "      {'distance': 582.1,\n",
       "       'duration': 62.6,\n",
       "       'type': 1,\n",
       "       'instruction': 'Turn right onto Rua Ricardo Machado',\n",
       "       'name': 'Rua Ricardo Machado',\n",
       "       'way_points': [92, 106]},\n",
       "      {'distance': 906.5,\n",
       "       'duration': 93.9,\n",
       "       'type': 0,\n",
       "       'instruction': 'Turn left onto Avenida Roberto Dinamite',\n",
       "       'name': 'Avenida Roberto Dinamite',\n",
       "       'way_points': [106, 121]},\n",
       "      {'distance': 0.0,\n",
       "       'duration': 0.0,\n",
       "       'type': 10,\n",
       "       'instruction': 'Arrive at Avenida Roberto Dinamite, on the left',\n",
       "       'name': '-',\n",
       "       'way_points': [121, 121]}]},\n",
       "    {'distance': 6674.9,\n",
       "     'duration': 673.7,\n",
       "     'steps': [{'distance': 43.1,\n",
       "       'duration': 7.8,\n",
       "       'type': 11,\n",
       "       'instruction': 'Head south on Praça Argentina',\n",
       "       'name': 'Praça Argentina',\n",
       "       'way_points': [121, 122]},\n",
       "      {'distance': 165.3,\n",
       "       'duration': 14.9,\n",
       "       'type': 6,\n",
       "       'instruction': 'Continue straight onto Rua da Emancipação',\n",
       "       'name': 'Rua da Emancipação',\n",
       "       'way_points': [122, 124]},\n",
       "      {'distance': 410.1,\n",
       "       'duration': 57.1,\n",
       "       'type': 0,\n",
       "       'instruction': 'Turn left onto Rua São Luiz Gonzaga',\n",
       "       'name': 'Rua São Luiz Gonzaga',\n",
       "       'way_points': [124, 135]},\n",
       "      {'distance': 315.2,\n",
       "       'duration': 34.6,\n",
       "       'type': 2,\n",
       "       'instruction': 'Turn sharp left onto Avenida do Exército',\n",
       "       'name': 'Avenida do Exército',\n",
       "       'way_points': [135, 141]},\n",
       "      {'distance': 1278.3,\n",
       "       'duration': 91.2,\n",
       "       'type': 13,\n",
       "       'instruction': 'Keep right',\n",
       "       'name': '-',\n",
       "       'way_points': [141, 152]},\n",
       "      {'distance': 523.2,\n",
       "       'duration': 67.5,\n",
       "       'type': 13,\n",
       "       'instruction': 'Keep right',\n",
       "       'name': '-',\n",
       "       'way_points': [152, 167]},\n",
       "      {'distance': 312.2,\n",
       "       'duration': 36.5,\n",
       "       'type': 1,\n",
       "       'instruction': 'Turn right onto Avenida Francisco Bicalho',\n",
       "       'name': 'Avenida Francisco Bicalho',\n",
       "       'way_points': [167, 171]},\n",
       "      {'distance': 1043.2,\n",
       "       'duration': 104.4,\n",
       "       'type': 12,\n",
       "       'instruction': 'Keep left onto Avenida Francisco Bicalho',\n",
       "       'name': 'Avenida Francisco Bicalho',\n",
       "       'way_points': [171, 190]},\n",
       "      {'distance': 15.1,\n",
       "       'duration': 3.6,\n",
       "       'type': 1,\n",
       "       'instruction': 'Turn right',\n",
       "       'name': '-',\n",
       "       'way_points': [190, 192]},\n",
       "      {'distance': 54.2,\n",
       "       'duration': 9.8,\n",
       "       'type': 2,\n",
       "       'instruction': 'Turn sharp left onto Avenida Presidente Vargas',\n",
       "       'name': 'Avenida Presidente Vargas',\n",
       "       'way_points': [192, 193]},\n",
       "      {'distance': 800.0,\n",
       "       'duration': 64.7,\n",
       "       'type': 6,\n",
       "       'instruction': 'Continue straight onto Avenida Presidente Vargas',\n",
       "       'name': 'Avenida Presidente Vargas',\n",
       "       'way_points': [193, 203]},\n",
       "      {'distance': 795.1,\n",
       "       'duration': 70.2,\n",
       "       'type': 1,\n",
       "       'instruction': 'Turn right onto Rua General Caldwell',\n",
       "       'name': 'Rua General Caldwell',\n",
       "       'way_points': [203, 213]},\n",
       "      {'distance': 211.9,\n",
       "       'duration': 28.8,\n",
       "       'type': 0,\n",
       "       'instruction': 'Turn left onto Avenida Henrique Valadares',\n",
       "       'name': 'Avenida Henrique Valadares',\n",
       "       'way_points': [213, 217]},\n",
       "      {'distance': 63.1,\n",
       "       'duration': 15.1,\n",
       "       'type': 4,\n",
       "       'instruction': 'Turn slight left onto Praça da Cruz Vermelha',\n",
       "       'name': 'Praça da Cruz Vermelha',\n",
       "       'way_points': [217, 222]},\n",
       "      {'distance': 541.6,\n",
       "       'duration': 55.6,\n",
       "       'type': 13,\n",
       "       'instruction': 'Keep right onto Avenida Henrique Valadares',\n",
       "       'name': 'Avenida Henrique Valadares',\n",
       "       'way_points': [222, 232]},\n",
       "      {'distance': 4.6,\n",
       "       'duration': 1.7,\n",
       "       'type': 2,\n",
       "       'instruction': 'Turn sharp left onto Rua do Lavradio',\n",
       "       'name': 'Rua do Lavradio',\n",
       "       'way_points': [232, 233]},\n",
       "      {'distance': 98.7,\n",
       "       'duration': 10.2,\n",
       "       'type': 6,\n",
       "       'instruction': 'Continue straight onto Rua do Lavradio',\n",
       "       'name': 'Rua do Lavradio',\n",
       "       'way_points': [233, 234]},\n",
       "      {'distance': 0.0,\n",
       "       'duration': 0.0,\n",
       "       'type': 10,\n",
       "       'instruction': 'Arrive at Rua do Lavradio, on the left',\n",
       "       'name': '-',\n",
       "       'way_points': [234, 234]}]},\n",
       "    {'distance': 7527.3,\n",
       "     'duration': 703.7,\n",
       "     'steps': [{'distance': 854.0,\n",
       "       'duration': 73.1,\n",
       "       'type': 11,\n",
       "       'instruction': 'Head north on Rua do Lavradio',\n",
       "       'name': 'Rua do Lavradio',\n",
       "       'way_points': [234, 247]},\n",
       "      {'distance': 197.8,\n",
       "       'duration': 14.2,\n",
       "       'type': 1,\n",
       "       'instruction': 'Turn right onto Avenida Mem de Sá',\n",
       "       'name': 'Avenida Mem de Sá',\n",
       "       'way_points': [247, 250]},\n",
       "      {'distance': 1526.1,\n",
       "       'duration': 152.3,\n",
       "       'type': 0,\n",
       "       'instruction': 'Turn left onto Rua Frei Caneca',\n",
       "       'name': 'Rua Frei Caneca',\n",
       "       'way_points': [250, 281]},\n",
       "      {'distance': 329.2,\n",
       "       'duration': 29.6,\n",
       "       'type': 13,\n",
       "       'instruction': 'Keep right onto Rua Joaquim Palhares',\n",
       "       'name': 'Rua Joaquim Palhares',\n",
       "       'way_points': [281, 289]},\n",
       "      {'distance': 12.0,\n",
       "       'duration': 4.3,\n",
       "       'type': 12,\n",
       "       'instruction': 'Keep left',\n",
       "       'name': '-',\n",
       "       'way_points': [289, 290]},\n",
       "      {'distance': 3282.5,\n",
       "       'duration': 229.1,\n",
       "       'type': 12,\n",
       "       'instruction': 'Keep left',\n",
       "       'name': '-',\n",
       "       'way_points': [290, 336]},\n",
       "      {'distance': 726.1,\n",
       "       'duration': 57.0,\n",
       "       'type': 13,\n",
       "       'instruction': 'Keep right',\n",
       "       'name': '-',\n",
       "       'way_points': [336, 351]},\n",
       "      {'distance': 174.8,\n",
       "       'duration': 41.9,\n",
       "       'type': 1,\n",
       "       'instruction': 'Turn right onto Rua Retiro Saudoso',\n",
       "       'name': 'Rua Retiro Saudoso',\n",
       "       'way_points': [351, 353]},\n",
       "      {'distance': 356.4,\n",
       "       'duration': 85.5,\n",
       "       'type': 6,\n",
       "       'instruction': 'Continue straight onto Rua Retiro Saudoso',\n",
       "       'name': 'Rua Retiro Saudoso',\n",
       "       'way_points': [353, 363]},\n",
       "      {'distance': 68.5,\n",
       "       'duration': 16.5,\n",
       "       'type': 0,\n",
       "       'instruction': 'Turn left onto Rua Amanhecer',\n",
       "       'name': 'Rua Amanhecer',\n",
       "       'way_points': [363, 365]},\n",
       "      {'distance': 0.0,\n",
       "       'duration': 0.0,\n",
       "       'type': 10,\n",
       "       'instruction': 'Arrive at Rua Amanhecer, on the left',\n",
       "       'name': '-',\n",
       "       'way_points': [365, 365]}]}],\n",
       "   'bbox': [-43.236124, -22.914504, -43.183059, -22.880426],\n",
       "   'geometry': 'vzsjC|myfG@H^x@d@l@jDfCZZBFJLNTRPhCnBh@TdBxAZs@Vc@NOx@m@f@g@T]Vr@FX\\\\fBVv@Zl@xApBtCvDd@t@NjAEh@Kh@ShAEROf@AT@VBRFRNTLLTJTBpCZh@JVJr@f@dAzAx@jArBnCh@t@`AnAw@r@o@j@dAzAeA{A[a@oAcBn@k@cCeDy@j@OJQFU@KCOIkA_BSk@Cc@Bc@b@gDDuAAuAKeAYwA]cA[q@MSeAwAqBiCc@m@SUa@k@Sa@]kAMsADaALw@Xs@LUTUl@s@zCyCpAqAxA}ALRvAtDd@pA`AfCh@pAp@jBDLp@fBBHRd@Pf@h@xA`@fAPXzAO`C]|@Mj@IxD_@bBKbDO|AGj@@jBDnANh@HpBq@vBu@fE_BjACn@GvFW@a@DYlByITk@Zq@DSBQ@WD[DGbCmAyByB_BaByB{BYUIKYs@M}Ai@wDWgAmAiDEYA[@_@FWHW\\\\c@fj@o[r@QzAQd@Ir@]h@i@LUHUH]Dc@GeBWmG]oC?C@YHQr@CfEKtGU\\\\CfAq@^Wd@a@LSLYVw@F[HcA?i@Ag@Ee@c@oBYsAo@wC{@}Dw@kDq@{CcBsHqA}FPCF@_@cBIa@iAeF{@sDaByHoAaFe@{AMm@YmAaAiEUcA|@Sp@MrAYjAU|Be@vE_AfFeAnE{@f@QnFyDcB}G@WR[Nk@CUGQKMSMa@EI?KKq@cC]sAYgAwAyFaAuDOm@}@eDAYG@cDfAo@Rr@`Ex@xELr@f@jCRbARlAv@jEv@~DfA|D|@lCJTRPMpAm@xF[d@`@z@Td@NZf@xEBNRjBH~@XfCJ`Ab@jDNtALlAPfBVtBXhCT`Cx@|HPfAFt@BNJ^X`@|AvBVv@H\\\\L~@zAjIDb@?\\\\ATW|@[d@mAxAo@~@Ub@iC~EIHOBg@GSA]?gBc@eAWg@SIGa@s@c@u@KKKE_@?SJy@vAu@|@QLQJMD{@Fa@BcENgBDyHRqHP_GPu@BgGN_KZi@Da@Hc@\\\\}GnHkAdAs@d@k@ZsBz@{e@tQoAz@a@\\\\g@l@Yd@Up@Oh@I`@KfACjBC|EEpGKr@KhCE^Et@Gd@K`@e@`Ae@n@MJiAdAsDtDcAbAc@b@qArAmDfDmFmBs@U{@Yw@OUI}Bk@oAYq@M]AW?mAF}AHHl@VpA',\n",
       "   'way_points': [0, 52, 121, 234, 365],\n",
       "   'legs': []}],\n",
       " 'metadata': {'attribution': 'openrouteservice.org | OpenStreetMap contributors',\n",
       "  'service': 'routing',\n",
       "  'timestamp': 1694476122446,\n",
       "  'query': {'coordinates': [[-43.22533, -22.88089],\n",
       "    [-43.2362, -22.88957],\n",
       "    [-43.22746, -22.89763],\n",
       "    [-43.18358, -22.90929],\n",
       "    [-43.22533, -22.88089]],\n",
       "   'profile': 'driving-hgv',\n",
       "   'format': 'json'},\n",
       "  'engine': {'version': '7.1.0',\n",
       "   'build_date': '2023-07-09T01:31:50Z',\n",
       "   'graph_date': '2023-09-03T08:25:27Z'}}}"
      ]
     },
     "execution_count": 37,
     "metadata": {},
     "output_type": "execute_result"
    }
   ],
   "source": [
    "directions_data = json.loads(directions.text)\n",
    "directions_data"
   ]
  },
  {
   "cell_type": "code",
   "execution_count": 89,
   "id": "7ac2c2e4-67ae-4ea5-aa90-55f2d4d855ce",
   "metadata": {},
   "outputs": [
    {
     "data": {
      "text/plain": [
       "array(['CENTRO INTEGRADO DE EDUCACAO PUBLICA HENFIL',\n",
       "       'ESCOLA MUNICIPAL ALICE DO AMARAL PEIXOTO',\n",
       "       'ESCOLA MUNICIPAL CELESTINO SILVA',\n",
       "       'ESCOLA MUNICIPAL FLORIANO PEIXOTO'], dtype=object)"
      ]
     },
     "execution_count": 89,
     "metadata": {},
     "output_type": "execute_result"
    }
   ],
   "source": [
    "names"
   ]
  },
  {
   "cell_type": "code",
   "execution_count": 97,
   "id": "2b8abca1-2734-4f5c-b8d6-a4ab1983eae3",
   "metadata": {},
   "outputs": [],
   "source": [
    "import folium\n",
    "from folium import plugins\n",
    "import polyline\n",
    "import numpy as np\n",
    "\n",
    "# Initialize the map\n",
    "m = folium.Map(location=[-22.89533, -43.20957], zoom_start=13)\n",
    "\n",
    "# Define the coordinates for the route and decode the geometry\n",
    "encoded_geometry = directions_data['routes'][0]['geometry']\n",
    "decoded_geometry = polyline.decode(encoded_geometry)\n",
    "\n",
    "# Add the route polyline to the map\n",
    "folium.PolyLine(\n",
    "    locations=decoded_geometry,\n",
    "    color='blue',\n",
    "    weight=5,\n",
    "    opacity=0.7,\n",
    ").add_to(m)\n",
    "\n",
    "\n",
    "# Create a GeoJSON object for the route\n",
    "route_geojson = {\n",
    "    \"type\": \"LineString\",\n",
    "    \"coordinates\": decoded_geometry\n",
    "}\n",
    "\n",
    "# Add the route to the map\n",
    "route_layer = folium.GeoJson(\n",
    "    route_geojson,\n",
    "    name=\"Route\",\n",
    "    style_function=lambda x: {'color': 'blue', 'weight': 5}\n",
    ").add_to(m)\n",
    "\n",
    "# Add markers for the coordinates\n",
    "coordinates = np.array([[lng, lat] for lat, lng in coordinates])\n",
    "for i, name in enumerate(names):\n",
    "    folium.Marker(\n",
    "        location=coordinates[i],\n",
    "        popup=name,\n",
    "        icon=folium.Icon(color='green', icon='info-sign')\n",
    "    ).add_to(m)\n",
    "\n",
    "# Add a layer control to toggle the route on/off\n",
    "folium.LayerControl().add_to(m)\n",
    "\n",
    "# Display the map\n",
    "m.save('route_map.html')"
   ]
  }
 ],
 "metadata": {
  "kernelspec": {
   "display_name": "Python 3 (ipykernel)",
   "language": "python",
   "name": "python3"
  },
  "language_info": {
   "codemirror_mode": {
    "name": "ipython",
    "version": 3
   },
   "file_extension": ".py",
   "mimetype": "text/x-python",
   "name": "python",
   "nbconvert_exporter": "python",
   "pygments_lexer": "ipython3",
   "version": "3.8.18"
  }
 },
 "nbformat": 4,
 "nbformat_minor": 5
}
